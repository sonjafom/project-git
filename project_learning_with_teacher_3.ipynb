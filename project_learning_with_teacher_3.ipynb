{
 "cells": [
  {
   "cell_type": "markdown",
   "metadata": {
    "toc": true
   },
   "source": [
    "<h1>Содержание<span class=\"tocSkip\"></span></h1>\n",
    "<div class=\"toc\"><ul class=\"toc-item\"><li><span><a href=\"#Подготовка-данных\" data-toc-modified-id=\"Подготовка-данных-1\"><span class=\"toc-item-num\">1&nbsp;&nbsp;</span>Подготовка данных</a></span><ul class=\"toc-item\"><li><span><a href=\"#Выводы-по-предобработке-данных:\" data-toc-modified-id=\"Выводы-по-предобработке-данных:-1.1\"><span class=\"toc-item-num\">1.1&nbsp;&nbsp;</span>Выводы по предобработке данных:</a></span></li></ul></li><li><span><a href=\"#Исследование-задачи\" data-toc-modified-id=\"Исследование-задачи-2\"><span class=\"toc-item-num\">2&nbsp;&nbsp;</span>Исследование задачи</a></span></li><li><span><a href=\"#Борьба-с-дисбалансом\" data-toc-modified-id=\"Борьба-с-дисбалансом-3\"><span class=\"toc-item-num\">3&nbsp;&nbsp;</span>Борьба с дисбалансом</a></span><ul class=\"toc-item\"><li><span><a href=\"#Атрибут-class_weight\" data-toc-modified-id=\"Атрибут-class_weight-3.1\"><span class=\"toc-item-num\">3.1&nbsp;&nbsp;</span>Атрибут class_weight</a></span></li><li><span><a href=\"#Увеличение-и-уменьшение-выборки\" data-toc-modified-id=\"Увеличение-и-уменьшение-выборки-3.2\"><span class=\"toc-item-num\">3.2&nbsp;&nbsp;</span>Увеличение и уменьшение выборки</a></span><ul class=\"toc-item\"><li><span><a href=\"#Увеличение-выборки\" data-toc-modified-id=\"Увеличение-выборки-3.2.1\"><span class=\"toc-item-num\">3.2.1&nbsp;&nbsp;</span>Увеличение выборки</a></span></li><li><span><a href=\"#Уменьшение-выборки\" data-toc-modified-id=\"Уменьшение-выборки-3.2.2\"><span class=\"toc-item-num\">3.2.2&nbsp;&nbsp;</span>Уменьшение выборки</a></span></li></ul></li></ul></li><li><span><a href=\"#Тестирование-модели\" data-toc-modified-id=\"Тестирование-модели-4\"><span class=\"toc-item-num\">4&nbsp;&nbsp;</span>Тестирование модели</a></span><ul class=\"toc-item\"><li><span><a href=\"#Вывод\" data-toc-modified-id=\"Вывод-4.1\"><span class=\"toc-item-num\">4.1&nbsp;&nbsp;</span>Вывод</a></span></li></ul></li><li><span><a href=\"#Чек-лист-готовности-проекта\" data-toc-modified-id=\"Чек-лист-готовности-проекта-5\"><span class=\"toc-item-num\">5&nbsp;&nbsp;</span>Чек-лист готовности проекта</a></span></li></ul></div>"
   ]
  },
  {
   "cell_type": "markdown",
   "metadata": {},
   "source": [
    "# Отток клиентов"
   ]
  },
  {
   "cell_type": "markdown",
   "metadata": {},
   "source": [
    "Из «Бета-Банка» стали уходить клиенты. Каждый месяц. Немного, но заметно. Банковские маркетологи посчитали: сохранять текущих клиентов дешевле, чем привлекать новых.\n",
    "\n",
    "Спрогнозируем, уйдёт клиент из банка в ближайшее время или нет. Нам предоставлены исторические данные о поведении клиентов и расторжении договоров с банком. \n",
    "\n",
    "Построим модель с предельно большим значением *F1*-меры. Проверим *F1*-меру на тестовой выборке самостоятельно.\n",
    "\n",
    "Дополнительно будем измерять *AUC-ROC*, сравнивайте её значение с *F1*-мерой.\n",
    "\n",
    "Источник данных: [https://www.kaggle.com/barelydedicated/bank-customer-churn-modeling](https://www.kaggle.com/barelydedicated/bank-customer-churn-modeling)"
   ]
  },
  {
   "cell_type": "markdown",
   "metadata": {},
   "source": [
    "## Подготовка данных"
   ]
  },
  {
   "cell_type": "code",
   "execution_count": 1,
   "metadata": {},
   "outputs": [
    {
     "name": "stdout",
     "output_type": "stream",
     "text": [
      "Requirement already satisfied: imblearn in /opt/conda/lib/python3.9/site-packages (0.0)\r\n",
      "Requirement already satisfied: imbalanced-learn in /opt/conda/lib/python3.9/site-packages (from imblearn) (0.10.1)\r\n",
      "Requirement already satisfied: joblib>=1.1.1 in /opt/conda/lib/python3.9/site-packages (from imbalanced-learn->imblearn) (1.2.0)\r\n",
      "Requirement already satisfied: scipy>=1.3.2 in /opt/conda/lib/python3.9/site-packages (from imbalanced-learn->imblearn) (1.9.1)\r\n",
      "Requirement already satisfied: threadpoolctl>=2.0.0 in /opt/conda/lib/python3.9/site-packages (from imbalanced-learn->imblearn) (3.1.0)\r\n",
      "Requirement already satisfied: scikit-learn>=1.0.2 in /opt/conda/lib/python3.9/site-packages (from imbalanced-learn->imblearn) (1.2.2)\r\n",
      "Requirement already satisfied: numpy>=1.17.3 in /opt/conda/lib/python3.9/site-packages (from imbalanced-learn->imblearn) (1.21.1)\r\n"
     ]
    }
   ],
   "source": [
    "!pip install imblearn\n",
    "import pandas as pd\n",
    "from sklearn.model_selection import train_test_split\n",
    "from sklearn.preprocessing import StandardScaler\n",
    "from sklearn.ensemble import RandomForestClassifier\n",
    "from sklearn.tree import DecisionTreeClassifier\n",
    "from sklearn.linear_model import LogisticRegression\n",
    "from sklearn.metrics import accuracy_score, f1_score, recall_score, precision_score, roc_auc_score, roc_curve\n",
    "from sklearn.dummy import DummyClassifier\n",
    "from tqdm import tqdm\n",
    "from sklearn.utils import shuffle\n",
    "import matplotlib.pyplot as plt\n",
    "from imblearn.over_sampling import SMOTE"
   ]
  },
  {
   "cell_type": "code",
   "execution_count": 2,
   "metadata": {},
   "outputs": [],
   "source": [
    "data = pd.read_csv('/datasets/Churn.csv')"
   ]
  },
  {
   "cell_type": "code",
   "execution_count": 3,
   "metadata": {},
   "outputs": [
    {
     "data": {
      "text/html": [
       "<div>\n",
       "<style scoped>\n",
       "    .dataframe tbody tr th:only-of-type {\n",
       "        vertical-align: middle;\n",
       "    }\n",
       "\n",
       "    .dataframe tbody tr th {\n",
       "        vertical-align: top;\n",
       "    }\n",
       "\n",
       "    .dataframe thead th {\n",
       "        text-align: right;\n",
       "    }\n",
       "</style>\n",
       "<table border=\"1\" class=\"dataframe\">\n",
       "  <thead>\n",
       "    <tr style=\"text-align: right;\">\n",
       "      <th></th>\n",
       "      <th>RowNumber</th>\n",
       "      <th>CustomerId</th>\n",
       "      <th>Surname</th>\n",
       "      <th>CreditScore</th>\n",
       "      <th>Geography</th>\n",
       "      <th>Gender</th>\n",
       "      <th>Age</th>\n",
       "      <th>Tenure</th>\n",
       "      <th>Balance</th>\n",
       "      <th>NumOfProducts</th>\n",
       "      <th>HasCrCard</th>\n",
       "      <th>IsActiveMember</th>\n",
       "      <th>EstimatedSalary</th>\n",
       "      <th>Exited</th>\n",
       "    </tr>\n",
       "  </thead>\n",
       "  <tbody>\n",
       "    <tr>\n",
       "      <th>0</th>\n",
       "      <td>1</td>\n",
       "      <td>15634602</td>\n",
       "      <td>Hargrave</td>\n",
       "      <td>619</td>\n",
       "      <td>France</td>\n",
       "      <td>Female</td>\n",
       "      <td>42</td>\n",
       "      <td>2.0</td>\n",
       "      <td>0.00</td>\n",
       "      <td>1</td>\n",
       "      <td>1</td>\n",
       "      <td>1</td>\n",
       "      <td>101348.88</td>\n",
       "      <td>1</td>\n",
       "    </tr>\n",
       "    <tr>\n",
       "      <th>1</th>\n",
       "      <td>2</td>\n",
       "      <td>15647311</td>\n",
       "      <td>Hill</td>\n",
       "      <td>608</td>\n",
       "      <td>Spain</td>\n",
       "      <td>Female</td>\n",
       "      <td>41</td>\n",
       "      <td>1.0</td>\n",
       "      <td>83807.86</td>\n",
       "      <td>1</td>\n",
       "      <td>0</td>\n",
       "      <td>1</td>\n",
       "      <td>112542.58</td>\n",
       "      <td>0</td>\n",
       "    </tr>\n",
       "    <tr>\n",
       "      <th>2</th>\n",
       "      <td>3</td>\n",
       "      <td>15619304</td>\n",
       "      <td>Onio</td>\n",
       "      <td>502</td>\n",
       "      <td>France</td>\n",
       "      <td>Female</td>\n",
       "      <td>42</td>\n",
       "      <td>8.0</td>\n",
       "      <td>159660.80</td>\n",
       "      <td>3</td>\n",
       "      <td>1</td>\n",
       "      <td>0</td>\n",
       "      <td>113931.57</td>\n",
       "      <td>1</td>\n",
       "    </tr>\n",
       "    <tr>\n",
       "      <th>3</th>\n",
       "      <td>4</td>\n",
       "      <td>15701354</td>\n",
       "      <td>Boni</td>\n",
       "      <td>699</td>\n",
       "      <td>France</td>\n",
       "      <td>Female</td>\n",
       "      <td>39</td>\n",
       "      <td>1.0</td>\n",
       "      <td>0.00</td>\n",
       "      <td>2</td>\n",
       "      <td>0</td>\n",
       "      <td>0</td>\n",
       "      <td>93826.63</td>\n",
       "      <td>0</td>\n",
       "    </tr>\n",
       "    <tr>\n",
       "      <th>4</th>\n",
       "      <td>5</td>\n",
       "      <td>15737888</td>\n",
       "      <td>Mitchell</td>\n",
       "      <td>850</td>\n",
       "      <td>Spain</td>\n",
       "      <td>Female</td>\n",
       "      <td>43</td>\n",
       "      <td>2.0</td>\n",
       "      <td>125510.82</td>\n",
       "      <td>1</td>\n",
       "      <td>1</td>\n",
       "      <td>1</td>\n",
       "      <td>79084.10</td>\n",
       "      <td>0</td>\n",
       "    </tr>\n",
       "  </tbody>\n",
       "</table>\n",
       "</div>"
      ],
      "text/plain": [
       "   RowNumber  CustomerId   Surname  CreditScore Geography  Gender  Age  \\\n",
       "0          1    15634602  Hargrave          619    France  Female   42   \n",
       "1          2    15647311      Hill          608     Spain  Female   41   \n",
       "2          3    15619304      Onio          502    France  Female   42   \n",
       "3          4    15701354      Boni          699    France  Female   39   \n",
       "4          5    15737888  Mitchell          850     Spain  Female   43   \n",
       "\n",
       "   Tenure    Balance  NumOfProducts  HasCrCard  IsActiveMember  \\\n",
       "0     2.0       0.00              1          1               1   \n",
       "1     1.0   83807.86              1          0               1   \n",
       "2     8.0  159660.80              3          1               0   \n",
       "3     1.0       0.00              2          0               0   \n",
       "4     2.0  125510.82              1          1               1   \n",
       "\n",
       "   EstimatedSalary  Exited  \n",
       "0        101348.88       1  \n",
       "1        112542.58       0  \n",
       "2        113931.57       1  \n",
       "3         93826.63       0  \n",
       "4         79084.10       0  "
      ]
     },
     "execution_count": 3,
     "metadata": {},
     "output_type": "execute_result"
    }
   ],
   "source": [
    "data.head()"
   ]
  },
  {
   "cell_type": "markdown",
   "metadata": {},
   "source": [
    "Рассмотрим, какие столбцы включает в себя таблица:\n",
    "\n",
    "RowNumber — индекс строки в данных\n",
    "\n",
    "CustomerId — уникальный идентификатор клиента\n",
    "\n",
    "Surname — фамилия\n",
    "\n",
    "CreditScore — кредитный рейтинг\n",
    "\n",
    "Geography — страна проживания\n",
    "\n",
    "Gender — пол\n",
    "\n",
    "Age — возраст\n",
    "\n",
    "Tenure — сколько лет человек является клиентом банка\n",
    "\n",
    "Balance — баланс на счёте\n",
    "\n",
    "NumOfProducts — количество продуктов банка, используемых клиентом\n",
    "\n",
    "HasCrCard — наличие кредитной карты\n",
    "\n",
    "IsActiveMember — активность клиента\n",
    "\n",
    "EstimatedSalary — предполагаемая зарплата\n",
    "\n",
    "Exited — факт ухода клиента"
   ]
  },
  {
   "cell_type": "markdown",
   "metadata": {},
   "source": [
    "Выведем информацию о таблице с помощью методов describe() и info():"
   ]
  },
  {
   "cell_type": "code",
   "execution_count": 4,
   "metadata": {},
   "outputs": [
    {
     "data": {
      "text/html": [
       "<div>\n",
       "<style scoped>\n",
       "    .dataframe tbody tr th:only-of-type {\n",
       "        vertical-align: middle;\n",
       "    }\n",
       "\n",
       "    .dataframe tbody tr th {\n",
       "        vertical-align: top;\n",
       "    }\n",
       "\n",
       "    .dataframe thead th {\n",
       "        text-align: right;\n",
       "    }\n",
       "</style>\n",
       "<table border=\"1\" class=\"dataframe\">\n",
       "  <thead>\n",
       "    <tr style=\"text-align: right;\">\n",
       "      <th></th>\n",
       "      <th>RowNumber</th>\n",
       "      <th>CustomerId</th>\n",
       "      <th>CreditScore</th>\n",
       "      <th>Age</th>\n",
       "      <th>Tenure</th>\n",
       "      <th>Balance</th>\n",
       "      <th>NumOfProducts</th>\n",
       "      <th>HasCrCard</th>\n",
       "      <th>IsActiveMember</th>\n",
       "      <th>EstimatedSalary</th>\n",
       "      <th>Exited</th>\n",
       "    </tr>\n",
       "  </thead>\n",
       "  <tbody>\n",
       "    <tr>\n",
       "      <th>count</th>\n",
       "      <td>10000.00000</td>\n",
       "      <td>1.000000e+04</td>\n",
       "      <td>10000.000000</td>\n",
       "      <td>10000.000000</td>\n",
       "      <td>9091.000000</td>\n",
       "      <td>10000.000000</td>\n",
       "      <td>10000.000000</td>\n",
       "      <td>10000.00000</td>\n",
       "      <td>10000.000000</td>\n",
       "      <td>10000.000000</td>\n",
       "      <td>10000.000000</td>\n",
       "    </tr>\n",
       "    <tr>\n",
       "      <th>mean</th>\n",
       "      <td>5000.50000</td>\n",
       "      <td>1.569094e+07</td>\n",
       "      <td>650.528800</td>\n",
       "      <td>38.921800</td>\n",
       "      <td>4.997690</td>\n",
       "      <td>76485.889288</td>\n",
       "      <td>1.530200</td>\n",
       "      <td>0.70550</td>\n",
       "      <td>0.515100</td>\n",
       "      <td>100090.239881</td>\n",
       "      <td>0.203700</td>\n",
       "    </tr>\n",
       "    <tr>\n",
       "      <th>std</th>\n",
       "      <td>2886.89568</td>\n",
       "      <td>7.193619e+04</td>\n",
       "      <td>96.653299</td>\n",
       "      <td>10.487806</td>\n",
       "      <td>2.894723</td>\n",
       "      <td>62397.405202</td>\n",
       "      <td>0.581654</td>\n",
       "      <td>0.45584</td>\n",
       "      <td>0.499797</td>\n",
       "      <td>57510.492818</td>\n",
       "      <td>0.402769</td>\n",
       "    </tr>\n",
       "    <tr>\n",
       "      <th>min</th>\n",
       "      <td>1.00000</td>\n",
       "      <td>1.556570e+07</td>\n",
       "      <td>350.000000</td>\n",
       "      <td>18.000000</td>\n",
       "      <td>0.000000</td>\n",
       "      <td>0.000000</td>\n",
       "      <td>1.000000</td>\n",
       "      <td>0.00000</td>\n",
       "      <td>0.000000</td>\n",
       "      <td>11.580000</td>\n",
       "      <td>0.000000</td>\n",
       "    </tr>\n",
       "    <tr>\n",
       "      <th>25%</th>\n",
       "      <td>2500.75000</td>\n",
       "      <td>1.562853e+07</td>\n",
       "      <td>584.000000</td>\n",
       "      <td>32.000000</td>\n",
       "      <td>2.000000</td>\n",
       "      <td>0.000000</td>\n",
       "      <td>1.000000</td>\n",
       "      <td>0.00000</td>\n",
       "      <td>0.000000</td>\n",
       "      <td>51002.110000</td>\n",
       "      <td>0.000000</td>\n",
       "    </tr>\n",
       "    <tr>\n",
       "      <th>50%</th>\n",
       "      <td>5000.50000</td>\n",
       "      <td>1.569074e+07</td>\n",
       "      <td>652.000000</td>\n",
       "      <td>37.000000</td>\n",
       "      <td>5.000000</td>\n",
       "      <td>97198.540000</td>\n",
       "      <td>1.000000</td>\n",
       "      <td>1.00000</td>\n",
       "      <td>1.000000</td>\n",
       "      <td>100193.915000</td>\n",
       "      <td>0.000000</td>\n",
       "    </tr>\n",
       "    <tr>\n",
       "      <th>75%</th>\n",
       "      <td>7500.25000</td>\n",
       "      <td>1.575323e+07</td>\n",
       "      <td>718.000000</td>\n",
       "      <td>44.000000</td>\n",
       "      <td>7.000000</td>\n",
       "      <td>127644.240000</td>\n",
       "      <td>2.000000</td>\n",
       "      <td>1.00000</td>\n",
       "      <td>1.000000</td>\n",
       "      <td>149388.247500</td>\n",
       "      <td>0.000000</td>\n",
       "    </tr>\n",
       "    <tr>\n",
       "      <th>max</th>\n",
       "      <td>10000.00000</td>\n",
       "      <td>1.581569e+07</td>\n",
       "      <td>850.000000</td>\n",
       "      <td>92.000000</td>\n",
       "      <td>10.000000</td>\n",
       "      <td>250898.090000</td>\n",
       "      <td>4.000000</td>\n",
       "      <td>1.00000</td>\n",
       "      <td>1.000000</td>\n",
       "      <td>199992.480000</td>\n",
       "      <td>1.000000</td>\n",
       "    </tr>\n",
       "  </tbody>\n",
       "</table>\n",
       "</div>"
      ],
      "text/plain": [
       "         RowNumber    CustomerId   CreditScore           Age       Tenure  \\\n",
       "count  10000.00000  1.000000e+04  10000.000000  10000.000000  9091.000000   \n",
       "mean    5000.50000  1.569094e+07    650.528800     38.921800     4.997690   \n",
       "std     2886.89568  7.193619e+04     96.653299     10.487806     2.894723   \n",
       "min        1.00000  1.556570e+07    350.000000     18.000000     0.000000   \n",
       "25%     2500.75000  1.562853e+07    584.000000     32.000000     2.000000   \n",
       "50%     5000.50000  1.569074e+07    652.000000     37.000000     5.000000   \n",
       "75%     7500.25000  1.575323e+07    718.000000     44.000000     7.000000   \n",
       "max    10000.00000  1.581569e+07    850.000000     92.000000    10.000000   \n",
       "\n",
       "             Balance  NumOfProducts    HasCrCard  IsActiveMember  \\\n",
       "count   10000.000000   10000.000000  10000.00000    10000.000000   \n",
       "mean    76485.889288       1.530200      0.70550        0.515100   \n",
       "std     62397.405202       0.581654      0.45584        0.499797   \n",
       "min         0.000000       1.000000      0.00000        0.000000   \n",
       "25%         0.000000       1.000000      0.00000        0.000000   \n",
       "50%     97198.540000       1.000000      1.00000        1.000000   \n",
       "75%    127644.240000       2.000000      1.00000        1.000000   \n",
       "max    250898.090000       4.000000      1.00000        1.000000   \n",
       "\n",
       "       EstimatedSalary        Exited  \n",
       "count     10000.000000  10000.000000  \n",
       "mean     100090.239881      0.203700  \n",
       "std       57510.492818      0.402769  \n",
       "min          11.580000      0.000000  \n",
       "25%       51002.110000      0.000000  \n",
       "50%      100193.915000      0.000000  \n",
       "75%      149388.247500      0.000000  \n",
       "max      199992.480000      1.000000  "
      ]
     },
     "execution_count": 4,
     "metadata": {},
     "output_type": "execute_result"
    }
   ],
   "source": [
    "data.describe()"
   ]
  },
  {
   "cell_type": "code",
   "execution_count": 5,
   "metadata": {},
   "outputs": [
    {
     "name": "stdout",
     "output_type": "stream",
     "text": [
      "<class 'pandas.core.frame.DataFrame'>\n",
      "RangeIndex: 10000 entries, 0 to 9999\n",
      "Data columns (total 14 columns):\n",
      " #   Column           Non-Null Count  Dtype  \n",
      "---  ------           --------------  -----  \n",
      " 0   RowNumber        10000 non-null  int64  \n",
      " 1   CustomerId       10000 non-null  int64  \n",
      " 2   Surname          10000 non-null  object \n",
      " 3   CreditScore      10000 non-null  int64  \n",
      " 4   Geography        10000 non-null  object \n",
      " 5   Gender           10000 non-null  object \n",
      " 6   Age              10000 non-null  int64  \n",
      " 7   Tenure           9091 non-null   float64\n",
      " 8   Balance          10000 non-null  float64\n",
      " 9   NumOfProducts    10000 non-null  int64  \n",
      " 10  HasCrCard        10000 non-null  int64  \n",
      " 11  IsActiveMember   10000 non-null  int64  \n",
      " 12  EstimatedSalary  10000 non-null  float64\n",
      " 13  Exited           10000 non-null  int64  \n",
      "dtypes: float64(3), int64(8), object(3)\n",
      "memory usage: 1.1+ MB\n"
     ]
    }
   ],
   "source": [
    "data.info()"
   ]
  },
  {
   "cell_type": "markdown",
   "metadata": {},
   "source": [
    "Таблица включает в себя информацию о 10000 пользователях от 18 до 92 лет. \n",
    "\n",
    "В столбце Tenure много пропусков."
   ]
  },
  {
   "cell_type": "code",
   "execution_count": 6,
   "metadata": {},
   "outputs": [
    {
     "data": {
      "text/plain": [
       "array([ 2.,  1.,  8.,  7.,  4.,  6.,  3., 10.,  5.,  9.,  0., nan])"
      ]
     },
     "execution_count": 6,
     "metadata": {},
     "output_type": "execute_result"
    }
   ],
   "source": [
    "data['Tenure'].unique()"
   ]
  },
  {
   "cell_type": "markdown",
   "metadata": {},
   "source": [
    "В столбце Tenure скрыты под nan могут быть любые значения (можно было бы предположить, что это только нули, но нули уже встречаются в данном столбце). Заменим пропуски *медианным* значением."
   ]
  },
  {
   "cell_type": "code",
   "execution_count": 7,
   "metadata": {},
   "outputs": [],
   "source": [
    "data['Tenure'] = data['Tenure'].fillna(data['Tenure'].median()).astype(int)"
   ]
  },
  {
   "cell_type": "code",
   "execution_count": 8,
   "metadata": {},
   "outputs": [
    {
     "data": {
      "text/plain": [
       "array([ 2,  1,  8,  7,  4,  6,  3, 10,  5,  9,  0])"
      ]
     },
     "execution_count": 8,
     "metadata": {},
     "output_type": "execute_result"
    }
   ],
   "source": [
    "data['Tenure'].unique()"
   ]
  },
  {
   "cell_type": "markdown",
   "metadata": {},
   "source": [
    "Пропусков в столбце больше нет."
   ]
  },
  {
   "cell_type": "markdown",
   "metadata": {},
   "source": [
    "Некоторые сомнения вызывает столбец, содержащий информацию о предполагаемой зарплате. Минимальное значение составляет 11.58 при среднем примерно равном 100000. Не понятно, в какой валюте и за какой период времени представлена предполагаемая зарплата. А, не зная этого, не стоит удалять/изменять данные."
   ]
  },
  {
   "cell_type": "markdown",
   "metadata": {},
   "source": [
    "Проверим, не встречаются ли в датасете дубликаты."
   ]
  },
  {
   "cell_type": "code",
   "execution_count": 9,
   "metadata": {},
   "outputs": [
    {
     "data": {
      "text/plain": [
       "0"
      ]
     },
     "execution_count": 9,
     "metadata": {},
     "output_type": "execute_result"
    }
   ],
   "source": [
    "data.duplicated().sum()"
   ]
  },
  {
   "cell_type": "markdown",
   "metadata": {},
   "source": [
    "Явных дубликатов нет. Теперь проверим, встречается ли в таблице несколько раз один и тот же идентификационный номер:"
   ]
  },
  {
   "cell_type": "code",
   "execution_count": 10,
   "metadata": {},
   "outputs": [
    {
     "data": {
      "text/plain": [
       "0"
      ]
     },
     "execution_count": 10,
     "metadata": {},
     "output_type": "execute_result"
    }
   ],
   "source": [
    "data['CustomerId'].duplicated().sum()"
   ]
  },
  {
   "cell_type": "markdown",
   "metadata": {},
   "source": [
    "Для того, чтобы перейти к обучению модели, необходимо установить:\n",
    "\n",
    "*объекты* - строки с информацией пользователях банка;\n",
    "\n",
    "*признаки* - столбцы с информацией о кредитном рейтинге, стране проживания, поле, возрасте, количестве лет в качестве клиента банка, балансе на счете, кол-ве используемых продуктов банка, наличии кредитной карты, активности клиента, предполагаемой зарплате;\n",
    "\n",
    "*целевой признак* - факт ухода клиента.\n",
    "\n",
    "Ненужными для обучения модели столбцами являются столбцы с фамилией, с индексом строки в данных, с идентификационным номером."
   ]
  },
  {
   "cell_type": "markdown",
   "metadata": {},
   "source": [
    "Для подготовки данных к обучению удалим ненужные столбцы из таблицы."
   ]
  },
  {
   "cell_type": "code",
   "execution_count": 11,
   "metadata": {},
   "outputs": [],
   "source": [
    "data = data.drop(['RowNumber', 'CustomerId', 'Surname'], axis=1)"
   ]
  },
  {
   "cell_type": "code",
   "execution_count": 12,
   "metadata": {},
   "outputs": [
    {
     "data": {
      "text/plain": [
       "Geography    3\n",
       "Gender       2\n",
       "dtype: int64"
      ]
     },
     "execution_count": 12,
     "metadata": {},
     "output_type": "execute_result"
    }
   ],
   "source": [
    "data.select_dtypes(include='object').nunique()"
   ]
  },
  {
   "cell_type": "markdown",
   "metadata": {},
   "source": [
    "В таблице представлена информация о пользователях двух полов из трех стран."
   ]
  },
  {
   "cell_type": "markdown",
   "metadata": {},
   "source": [
    "Столбцы со страной проживания и полом категориальные, для успешного обучения модели преобразуем их в численные с помощью техники OHE. "
   ]
  },
  {
   "cell_type": "code",
   "execution_count": 13,
   "metadata": {},
   "outputs": [],
   "source": [
    "data = pd.get_dummies(data, drop_first=True)"
   ]
  },
  {
   "cell_type": "code",
   "execution_count": 14,
   "metadata": {},
   "outputs": [
    {
     "data": {
      "text/html": [
       "<div>\n",
       "<style scoped>\n",
       "    .dataframe tbody tr th:only-of-type {\n",
       "        vertical-align: middle;\n",
       "    }\n",
       "\n",
       "    .dataframe tbody tr th {\n",
       "        vertical-align: top;\n",
       "    }\n",
       "\n",
       "    .dataframe thead th {\n",
       "        text-align: right;\n",
       "    }\n",
       "</style>\n",
       "<table border=\"1\" class=\"dataframe\">\n",
       "  <thead>\n",
       "    <tr style=\"text-align: right;\">\n",
       "      <th></th>\n",
       "      <th>CreditScore</th>\n",
       "      <th>Age</th>\n",
       "      <th>Tenure</th>\n",
       "      <th>Balance</th>\n",
       "      <th>NumOfProducts</th>\n",
       "      <th>HasCrCard</th>\n",
       "      <th>IsActiveMember</th>\n",
       "      <th>EstimatedSalary</th>\n",
       "      <th>Exited</th>\n",
       "      <th>Geography_Germany</th>\n",
       "      <th>Geography_Spain</th>\n",
       "      <th>Gender_Male</th>\n",
       "    </tr>\n",
       "  </thead>\n",
       "  <tbody>\n",
       "    <tr>\n",
       "      <th>0</th>\n",
       "      <td>619</td>\n",
       "      <td>42</td>\n",
       "      <td>2</td>\n",
       "      <td>0.00</td>\n",
       "      <td>1</td>\n",
       "      <td>1</td>\n",
       "      <td>1</td>\n",
       "      <td>101348.88</td>\n",
       "      <td>1</td>\n",
       "      <td>0</td>\n",
       "      <td>0</td>\n",
       "      <td>0</td>\n",
       "    </tr>\n",
       "    <tr>\n",
       "      <th>1</th>\n",
       "      <td>608</td>\n",
       "      <td>41</td>\n",
       "      <td>1</td>\n",
       "      <td>83807.86</td>\n",
       "      <td>1</td>\n",
       "      <td>0</td>\n",
       "      <td>1</td>\n",
       "      <td>112542.58</td>\n",
       "      <td>0</td>\n",
       "      <td>0</td>\n",
       "      <td>1</td>\n",
       "      <td>0</td>\n",
       "    </tr>\n",
       "    <tr>\n",
       "      <th>2</th>\n",
       "      <td>502</td>\n",
       "      <td>42</td>\n",
       "      <td>8</td>\n",
       "      <td>159660.80</td>\n",
       "      <td>3</td>\n",
       "      <td>1</td>\n",
       "      <td>0</td>\n",
       "      <td>113931.57</td>\n",
       "      <td>1</td>\n",
       "      <td>0</td>\n",
       "      <td>0</td>\n",
       "      <td>0</td>\n",
       "    </tr>\n",
       "    <tr>\n",
       "      <th>3</th>\n",
       "      <td>699</td>\n",
       "      <td>39</td>\n",
       "      <td>1</td>\n",
       "      <td>0.00</td>\n",
       "      <td>2</td>\n",
       "      <td>0</td>\n",
       "      <td>0</td>\n",
       "      <td>93826.63</td>\n",
       "      <td>0</td>\n",
       "      <td>0</td>\n",
       "      <td>0</td>\n",
       "      <td>0</td>\n",
       "    </tr>\n",
       "    <tr>\n",
       "      <th>4</th>\n",
       "      <td>850</td>\n",
       "      <td>43</td>\n",
       "      <td>2</td>\n",
       "      <td>125510.82</td>\n",
       "      <td>1</td>\n",
       "      <td>1</td>\n",
       "      <td>1</td>\n",
       "      <td>79084.10</td>\n",
       "      <td>0</td>\n",
       "      <td>0</td>\n",
       "      <td>1</td>\n",
       "      <td>0</td>\n",
       "    </tr>\n",
       "  </tbody>\n",
       "</table>\n",
       "</div>"
      ],
      "text/plain": [
       "   CreditScore  Age  Tenure    Balance  NumOfProducts  HasCrCard  \\\n",
       "0          619   42       2       0.00              1          1   \n",
       "1          608   41       1   83807.86              1          0   \n",
       "2          502   42       8  159660.80              3          1   \n",
       "3          699   39       1       0.00              2          0   \n",
       "4          850   43       2  125510.82              1          1   \n",
       "\n",
       "   IsActiveMember  EstimatedSalary  Exited  Geography_Germany  \\\n",
       "0               1        101348.88       1                  0   \n",
       "1               1        112542.58       0                  0   \n",
       "2               0        113931.57       1                  0   \n",
       "3               0         93826.63       0                  0   \n",
       "4               1         79084.10       0                  0   \n",
       "\n",
       "   Geography_Spain  Gender_Male  \n",
       "0                0            0  \n",
       "1                1            0  \n",
       "2                0            0  \n",
       "3                0            0  \n",
       "4                1            0  "
      ]
     },
     "execution_count": 14,
     "metadata": {},
     "output_type": "execute_result"
    }
   ],
   "source": [
    "data.head()"
   ]
  },
  {
   "cell_type": "markdown",
   "metadata": {},
   "source": [
    "### Выводы по предобработке данных:\n",
    "\n",
    "- Были рассмотрены столбцы таблицы data;\n",
    "\n",
    "- В столбце tenure пропуски были заполнены средним значением данного столбца.\n",
    "\n",
    "- Была выполнена проверка на явные дубликаты и проверено отсутствие дубликатов в столбце с индивидуальным номером.\n",
    "\n",
    "- Были обозначены объекты, признаки и целевой признак;\n",
    "\n",
    "- Категориальные признаки Geography и Gender были преобразованы в численные С помощью техники OHE ;\n"
   ]
  },
  {
   "cell_type": "markdown",
   "metadata": {},
   "source": [
    "## Исследование задачи"
   ]
  },
  {
   "cell_type": "markdown",
   "metadata": {},
   "source": [
    "Посмотрим, каков баланс целевого признака в данной таблице."
   ]
  },
  {
   "cell_type": "code",
   "execution_count": 15,
   "metadata": {},
   "outputs": [
    {
     "data": {
      "text/plain": [
       "0    7963\n",
       "1    2037\n",
       "Name: Exited, dtype: int64"
      ]
     },
     "execution_count": 15,
     "metadata": {},
     "output_type": "execute_result"
    }
   ],
   "source": [
    "data['Exited'].value_counts()"
   ]
  },
  {
   "cell_type": "markdown",
   "metadata": {},
   "source": [
    "Данные не сбалансированы. Наблюдается соотношение не ушедших клиентов банка к ушедшим примерно 4 к 1. Изучим модели без учета этого дисбаланса.\n",
    "\n",
    "Разделим датасет на три выборки: обучающую (60%), валидационную (20%) и тестовую (20%). target - столбец Exited, features - все столбцы за исключением Exited."
   ]
  },
  {
   "cell_type": "code",
   "execution_count": 16,
   "metadata": {},
   "outputs": [],
   "source": [
    "target = data['Exited']\n",
    "features = data.drop('Exited', axis=1)\n",
    "\n",
    "features_train, features_test_valid, target_train, target_test_valid = train_test_split(\n",
    "    features, target, test_size=0.4, random_state=12345)\n",
    "\n",
    "features_test, features_valid, target_test, target_valid = train_test_split(\n",
    "    features_test_valid, target_test_valid, test_size=0.5, random_state=12345)"
   ]
  },
  {
   "cell_type": "markdown",
   "metadata": {},
   "source": [
    "Теперь, когда данные поделены на выборки, можно приступить к масштабированию признаков."
   ]
  },
  {
   "cell_type": "code",
   "execution_count": 17,
   "metadata": {},
   "outputs": [],
   "source": [
    "numeric = ['CreditScore', 'Age', 'Tenure', 'Balance', 'NumOfProducts', 'EstimatedSalary']\n",
    "scaler = StandardScaler()\n",
    "scaler.fit(features_train[numeric])\n",
    "features_train[numeric] = scaler.transform(features_train[numeric])\n",
    "features_test[numeric] = scaler.transform(features_test[numeric])\n",
    "features_valid[numeric] = scaler.transform(features_valid[numeric])\n",
    "\n",
    "pd.options.mode.chained_assignment = None"
   ]
  },
  {
   "cell_type": "markdown",
   "metadata": {},
   "source": [
    "Приступим к обучению моделей. Будем менять гиперпараметры сравнивать модели между собой по значению f1-меры и auc-roc метрике."
   ]
  },
  {
   "cell_type": "markdown",
   "metadata": {},
   "source": [
    "*Решающее дерево*"
   ]
  },
  {
   "cell_type": "code",
   "execution_count": 18,
   "metadata": {},
   "outputs": [
    {
     "name": "stdout",
     "output_type": "stream",
     "text": [
      "Наибольшее значение f1 0.5329249617151608 при глубине дерева, равной 6\n"
     ]
    }
   ],
   "source": [
    "best_depth = 0\n",
    "\n",
    "best_f1 = 0\n",
    "\n",
    "for depth in range(1, 20):\n",
    "    model = DecisionTreeClassifier(max_depth=depth)\n",
    "    model.fit(features_train, target_train)\n",
    "    predicted_valid = model.predict(features_valid)\n",
    "    f1 = f1_score(target_valid, predicted_valid)\n",
    "    if f1 > best_f1:\n",
    "        best_f1 = f1\n",
    "        best_depth = depth\n",
    "print('Наибольшее значение f1', best_f1, 'при глубине дерева, равной', best_depth)\n"
   ]
  },
  {
   "cell_type": "markdown",
   "metadata": {},
   "source": [
    "Значение auc_roc у модели равно:"
   ]
  },
  {
   "cell_type": "code",
   "execution_count": 19,
   "metadata": {},
   "outputs": [
    {
     "name": "stdout",
     "output_type": "stream",
     "text": [
      "0.6675653716021234\n"
     ]
    }
   ],
   "source": [
    "probabilities_valid = model.predict_proba(features_valid)\n",
    "probabilities_one_valid = probabilities_valid[:, 1]\n",
    "\n",
    "auc_roc = roc_auc_score(target_valid, probabilities_one_valid)\n",
    "\n",
    "print(auc_roc)"
   ]
  },
  {
   "cell_type": "markdown",
   "metadata": {},
   "source": [
    "*Случайный лес*"
   ]
  },
  {
   "cell_type": "code",
   "execution_count": 20,
   "metadata": {},
   "outputs": [
    {
     "name": "stderr",
     "output_type": "stream",
     "text": [
      "100%|██████████| 10/10 [01:04<00:00,  6.49s/it]"
     ]
    },
    {
     "name": "stdout",
     "output_type": "stream",
     "text": [
      "Наибольшее значение f1 0.552437223042836 при количестве деревьев 30 и максимальной глубине 16\n"
     ]
    },
    {
     "name": "stderr",
     "output_type": "stream",
     "text": [
      "\n"
     ]
    }
   ],
   "source": [
    "best_depth = 0\n",
    "\n",
    "best_est = 0\n",
    "\n",
    "best_f1 = 0\n",
    "\n",
    "for est in tqdm(range(10, 101, 10)):\n",
    "    for depth in range(1, 20):\n",
    "        model = RandomForestClassifier(random_state=1, n_estimators=est, max_depth=depth) \n",
    "        model.fit(features_train, target_train) \n",
    "        predicted_valid = model.predict(features_valid)\n",
    "        f1 = f1_score(target_valid, predicted_valid)\n",
    "        if f1 > best_f1:\n",
    "            best_f1 = f1\n",
    "            best_est = est\n",
    "            best_depth = depth\n",
    "\n",
    "print(\"Наибольшее значение f1\", best_f1, \"при количестве деревьев\", best_est, \"и максимальной глубине\", best_depth)"
   ]
  },
  {
   "cell_type": "markdown",
   "metadata": {},
   "source": [
    "Значение auc-roc у модели равно:"
   ]
  },
  {
   "cell_type": "code",
   "execution_count": 21,
   "metadata": {},
   "outputs": [
    {
     "name": "stdout",
     "output_type": "stream",
     "text": [
      "0.8505061680091025\n"
     ]
    }
   ],
   "source": [
    "probabilities_valid = model.predict_proba(features_valid)\n",
    "probabilities_one_valid = probabilities_valid[:, 1]\n",
    "\n",
    "auc_roc = roc_auc_score(target_valid, probabilities_one_valid)\n",
    "\n",
    "print(auc_roc)"
   ]
  },
  {
   "cell_type": "markdown",
   "metadata": {},
   "source": [
    "*Логистическая регрессия*"
   ]
  },
  {
   "cell_type": "markdown",
   "metadata": {},
   "source": [
    "Вывод\n",
    "\n",
    "Без учета дисбаланса классов у рассмотренных моделей самое большое значение f1 наблюдается у случайного леса - 0.5524 при количестве деревьев 30 и максимальной глубине 16 (0.8505). Далее следует решающее дерево с f1 равным 0.530 (0.659). Дополнительно изменялось значение auc-roc. Полученные значения указаны в скобках после соответствующих моделей."
   ]
  },
  {
   "cell_type": "markdown",
   "metadata": {},
   "source": [
    "## Борьба с дисбалансом"
   ]
  },
  {
   "cell_type": "markdown",
   "metadata": {},
   "source": [
    "### Атрибут class_weight"
   ]
  },
  {
   "cell_type": "markdown",
   "metadata": {},
   "source": [
    "Для того, чтобы справиться с дисбалансом классов, используем атрибут class_weight. Используем те же три модели, что и выше, но укажем class_weight='balanced'."
   ]
  },
  {
   "cell_type": "markdown",
   "metadata": {},
   "source": [
    "*Решающее дерево*"
   ]
  },
  {
   "cell_type": "code",
   "execution_count": 24,
   "metadata": {},
   "outputs": [
    {
     "name": "stdout",
     "output_type": "stream",
     "text": [
      "Наибольшее значение f1 0.5809128630705395 при глубине дерева, равной 5\n"
     ]
    }
   ],
   "source": [
    "best_depth = 0\n",
    "\n",
    "best_f1 = 0\n",
    "\n",
    "for depth in range(1, 20):\n",
    "    model = DecisionTreeClassifier(max_depth=depth, class_weight='balanced')\n",
    "    model.fit(features_train, target_train)\n",
    "    predicted_valid = model.predict(features_valid)\n",
    "    f1 = f1_score(target_valid, predicted_valid)\n",
    "    if f1 > best_f1:\n",
    "        best_f1 = f1\n",
    "        best_depth = depth\n",
    "print('Наибольшее значение f1', best_f1, 'при глубине дерева, равной', best_depth)\n"
   ]
  },
  {
   "cell_type": "markdown",
   "metadata": {},
   "source": [
    "Значение auc_roc у модели равно:"
   ]
  },
  {
   "cell_type": "code",
   "execution_count": 25,
   "metadata": {},
   "outputs": [
    {
     "name": "stdout",
     "output_type": "stream",
     "text": [
      "0.676302072792851\n"
     ]
    }
   ],
   "source": [
    "probabilities_valid = model.predict_proba(features_valid)\n",
    "probabilities_one_valid = probabilities_valid[:, 1]\n",
    "\n",
    "auc_roc = roc_auc_score(target_valid, probabilities_one_valid)\n",
    "\n",
    "print(auc_roc)"
   ]
  },
  {
   "cell_type": "markdown",
   "metadata": {},
   "source": [
    "*Случайный лес*"
   ]
  },
  {
   "cell_type": "code",
   "execution_count": 26,
   "metadata": {},
   "outputs": [
    {
     "name": "stderr",
     "output_type": "stream",
     "text": [
      "100%|██████████| 10/10 [01:09<00:00,  6.99s/it]"
     ]
    },
    {
     "name": "stdout",
     "output_type": "stream",
     "text": [
      "Наибольшее значение f1 0.6220095693779906 при количестве деревьев 100 и максимальной глубине 10\n"
     ]
    },
    {
     "name": "stderr",
     "output_type": "stream",
     "text": [
      "\n"
     ]
    }
   ],
   "source": [
    "best_depth = 0\n",
    "\n",
    "best_est = 0\n",
    "\n",
    "best_f1 = 0\n",
    "\n",
    "for est in tqdm(range(10, 101, 10)):\n",
    "    for depth in range(1, 20):\n",
    "        model = RandomForestClassifier(random_state=1, n_estimators=est, max_depth=depth, class_weight='balanced') \n",
    "        model.fit(features_train, target_train) \n",
    "        predicted_valid = model.predict(features_valid)\n",
    "        f1 = f1_score(target_valid, predicted_valid)\n",
    "        if f1 > best_f1:\n",
    "            best_f1 = f1\n",
    "            best_est = est\n",
    "            best_depth = depth\n",
    "\n",
    "print(\"Наибольшее значение f1\", best_f1, \"при количестве деревьев\", best_est, \"и максимальной глубине\", best_depth)"
   ]
  },
  {
   "cell_type": "markdown",
   "metadata": {},
   "source": [
    "Значение auc_roc у модели равно:"
   ]
  },
  {
   "cell_type": "code",
   "execution_count": 27,
   "metadata": {},
   "outputs": [
    {
     "name": "stdout",
     "output_type": "stream",
     "text": [
      "0.8534751173413325\n"
     ]
    }
   ],
   "source": [
    "probabilities_valid = model.predict_proba(features_valid)\n",
    "probabilities_one_valid = probabilities_valid[:, 1]\n",
    "\n",
    "auc_roc = roc_auc_score(target_valid, probabilities_one_valid)\n",
    "\n",
    "print(auc_roc)"
   ]
  },
  {
   "cell_type": "markdown",
   "metadata": {},
   "source": [
    "Промежуточные выводы:\n",
    "\n",
    "- Решающее дерево. f1 = 0.5809, auc_roc = 0.6683\n",
    "\n",
    "- Случайный лес. f1 = 0.6220, auc_roc = 0.8535\n",
    "\n",
    "Метрика f1 случайного леса при кол-ве деревьев 100 и максимальной глубине 10 все еще самая высокая среди всех рассмотренных моделей, и она уже даже превысила метрику, указанную в условии успешной сдачи проекта (0.59)."
   ]
  },
  {
   "cell_type": "markdown",
   "metadata": {},
   "source": [
    "### Увеличение и уменьшение выборки"
   ]
  },
  {
   "cell_type": "code",
   "execution_count": 30,
   "metadata": {},
   "outputs": [
    {
     "name": "stdout",
     "output_type": "stream",
     "text": [
      "Количество target_ones: 2037\n",
      "Количество target_zeros: 7963\n",
      "Количество features_ones: 2037\n",
      "Количество features_zeros: 7963\n"
     ]
    }
   ],
   "source": [
    "features_zeros = features[target == 0]\n",
    "features_ones = features[target == 1]\n",
    "target_zeros = target[target == 0]\n",
    "target_ones = target[target == 1]\n",
    "\n",
    "print(f'Количество target_ones: {target_ones.count():.0f}\\nКоличество target_zeros: {target_zeros.count():.0f}')\n",
    "print(f'Количество features_ones: {features_ones[\"Age\"].count():.0f}\\nКоличество features_zeros: {features_zeros[\"Age\"].count():.0f}')"
   ]
  },
  {
   "cell_type": "markdown",
   "metadata": {},
   "source": [
    "Наибольшим классом является target_zeros, features_zeros - не ушедшие клиенты; наименьшим классом является target_ones, features_ones - ушедшие клиенты."
   ]
  },
  {
   "cell_type": "markdown",
   "metadata": {},
   "source": [
    "#### Увеличение выборки"
   ]
  },
  {
   "cell_type": "markdown",
   "metadata": {},
   "source": [
    "Увеличим в несколько раз меньший класс и перемешаем объекты."
   ]
  },
  {
   "cell_type": "code",
   "execution_count": 32,
   "metadata": {},
   "outputs": [],
   "source": [
    "oversample = SMOTE(random_state=12345)\n",
    "features_upsampled, target_upsampled = oversample.fit_resample(features_train, target_train)"
   ]
  },
  {
   "cell_type": "markdown",
   "metadata": {},
   "source": [
    "*Решающее дерево*"
   ]
  },
  {
   "cell_type": "code",
   "execution_count": 33,
   "metadata": {},
   "outputs": [
    {
     "name": "stdout",
     "output_type": "stream",
     "text": [
      "Наибольшее значение f1 0.5703422053231939 при глубине дерева, равной 5\n"
     ]
    }
   ],
   "source": [
    "best_depth = 0\n",
    "\n",
    "best_f1 = 0\n",
    "\n",
    "for depth in range(1, 20):\n",
    "    model = DecisionTreeClassifier(max_depth=depth)\n",
    "    model.fit(features_upsampled, target_upsampled)\n",
    "    predicted_valid = model.predict(features_valid)\n",
    "    f1 = f1_score(target_valid, predicted_valid)\n",
    "    if f1 > best_f1:\n",
    "        best_f1 = f1\n",
    "        best_depth = depth\n",
    "print('Наибольшее значение f1', best_f1, 'при глубине дерева, равной', best_depth)\n"
   ]
  },
  {
   "cell_type": "markdown",
   "metadata": {},
   "source": [
    "Значение auc_roc у модели равно:"
   ]
  },
  {
   "cell_type": "code",
   "execution_count": 34,
   "metadata": {},
   "outputs": [
    {
     "name": "stdout",
     "output_type": "stream",
     "text": [
      "0.6782269053818859\n"
     ]
    }
   ],
   "source": [
    "probabilities_valid = model.predict_proba(features_valid)\n",
    "probabilities_one_valid = probabilities_valid[:, 1]\n",
    "\n",
    "auc_roc = roc_auc_score(target_valid, probabilities_one_valid)\n",
    "\n",
    "print(auc_roc)"
   ]
  },
  {
   "cell_type": "markdown",
   "metadata": {},
   "source": [
    "*Случайный лес*"
   ]
  },
  {
   "cell_type": "code",
   "execution_count": 35,
   "metadata": {},
   "outputs": [
    {
     "name": "stderr",
     "output_type": "stream",
     "text": [
      "100%|██████████| 10/10 [00:35<00:00,  3.58s/it]"
     ]
    },
    {
     "name": "stdout",
     "output_type": "stream",
     "text": [
      "Наибольшее значение f1 0.5974576271186441 при количестве деревьев 80 и максимальной глубине 9\n"
     ]
    },
    {
     "name": "stderr",
     "output_type": "stream",
     "text": [
      "\n"
     ]
    }
   ],
   "source": [
    "best_depth = 0\n",
    "best_est = 0\n",
    "best_f1 = 0\n",
    "for est in tqdm(range(10, 101, 10)):\n",
    "    for depth in range(1, 10):\n",
    "        model = RandomForestClassifier(n_estimators=est, max_depth=depth, random_state=12345)\n",
    "        model.fit(features_upsampled, target_upsampled)\n",
    "        predictions_valid = model.predict(features_valid)\n",
    "        f1 = f1_score(target_valid, predictions_valid)\n",
    "        if f1 > best_f1:\n",
    "            best_f1 = f1\n",
    "            best_depth = depth\n",
    "            best_est = est\n",
    "print(\"Наибольшее значение f1\", best_f1, \"при количестве деревьев\", best_est, \"и максимальной глубине\", best_depth)"
   ]
  },
  {
   "cell_type": "markdown",
   "metadata": {},
   "source": [
    "Значение auc_roc у модели равно:"
   ]
  },
  {
   "cell_type": "code",
   "execution_count": 36,
   "metadata": {},
   "outputs": [
    {
     "name": "stdout",
     "output_type": "stream",
     "text": [
      "0.8437872430370981\n"
     ]
    }
   ],
   "source": [
    "probabilities_valid = model.predict_proba(features_valid)\n",
    "probabilities_one_valid = probabilities_valid[:, 1]\n",
    "\n",
    "auc_roc = roc_auc_score(target_valid, probabilities_one_valid)\n",
    "\n",
    "print(auc_roc)"
   ]
  },
  {
   "cell_type": "markdown",
   "metadata": {},
   "source": [
    "Значение auc_roc у модели равно:"
   ]
  },
  {
   "cell_type": "code",
   "execution_count": 38,
   "metadata": {},
   "outputs": [
    {
     "name": "stdout",
     "output_type": "stream",
     "text": [
      "0.7317002238142566\n"
     ]
    }
   ],
   "source": [
    "probabilities_valid = model.predict_proba(features_valid)\n",
    "probabilities_one_valid = probabilities_valid[:, 1]\n",
    "\n",
    "auc_roc = roc_auc_score(target_valid, probabilities_one_valid)\n",
    "\n",
    "print(auc_roc)"
   ]
  },
  {
   "cell_type": "markdown",
   "metadata": {},
   "source": [
    "#### Уменьшение выборки"
   ]
  },
  {
   "cell_type": "markdown",
   "metadata": {},
   "source": [
    "Случайным образом отбросим часть 0-объектов и перемешаем все объекты."
   ]
  },
  {
   "cell_type": "code",
   "execution_count": 39,
   "metadata": {},
   "outputs": [],
   "source": [
    "fraction = 0.25\n",
    "\n",
    "features_downsampled = pd.concat([features_zeros.sample(frac=fraction, random_state=12345)] + [features_ones])\n",
    "   \n",
    "target_downsampled = pd.concat([target_zeros.sample(frac=fraction, random_state=12345)] + [target_ones])\n",
    "    \n",
    "features_downsampled, target_downsampled = shuffle(features_downsampled, target_downsampled, random_state=12345)"
   ]
  },
  {
   "cell_type": "markdown",
   "metadata": {},
   "source": [
    "*Решающее дерево*"
   ]
  },
  {
   "cell_type": "code",
   "execution_count": 40,
   "metadata": {},
   "outputs": [
    {
     "name": "stdout",
     "output_type": "stream",
     "text": [
      "Наибольшее значение f1 0.39215686274509803 при глубине дерева, равной 4\n"
     ]
    }
   ],
   "source": [
    "best_depth = 0\n",
    "\n",
    "best_f1 = 0\n",
    "\n",
    "for depth in range(1, 20):\n",
    "    model = DecisionTreeClassifier(max_depth=depth, class_weight='balanced')\n",
    "    model.fit(features_downsampled, target_downsampled)\n",
    "    predicted_valid = model.predict(features_valid)\n",
    "    f1 = f1_score(target_valid, predicted_valid)\n",
    "    if f1 > best_f1:\n",
    "        best_f1 = f1\n",
    "        best_depth = depth\n",
    "print('Наибольшее значение f1', best_f1, 'при глубине дерева, равной', best_depth)"
   ]
  },
  {
   "cell_type": "markdown",
   "metadata": {},
   "source": [
    "Значение auc_roc у модели равно:"
   ]
  },
  {
   "cell_type": "code",
   "execution_count": 41,
   "metadata": {},
   "outputs": [
    {
     "name": "stdout",
     "output_type": "stream",
     "text": [
      "0.5525536262256941\n"
     ]
    }
   ],
   "source": [
    "probabilities_valid = model.predict_proba(features_valid)\n",
    "probabilities_one_valid = probabilities_valid[:, 1]\n",
    "\n",
    "auc_roc = roc_auc_score(target_valid, probabilities_one_valid)\n",
    "\n",
    "print(auc_roc)"
   ]
  },
  {
   "cell_type": "markdown",
   "metadata": {},
   "source": [
    "*Случайный лес*"
   ]
  },
  {
   "cell_type": "code",
   "execution_count": 42,
   "metadata": {},
   "outputs": [
    {
     "name": "stdout",
     "output_type": "stream",
     "text": [
      "Наибольшее значение f1 0.4071005917159764 при количестве деревьев 6 и максимальной глубине 3\n"
     ]
    }
   ],
   "source": [
    "best_depth = 0\n",
    "best_est = 0\n",
    "best_f1 = 0\n",
    "for est in range(1, 11, 1):\n",
    "    for depth in range(1, 10):\n",
    "        model = RandomForestClassifier(n_estimators=est, max_depth=depth, class_weight='balanced')\n",
    "        model.fit(features_downsampled, target_downsampled)\n",
    "        predictions_valid = model.predict(features_valid)\n",
    "        f1 = f1_score(target_valid, predictions_valid)\n",
    "        if f1 > best_f1:\n",
    "            best_f1 = f1\n",
    "            best_depth = depth\n",
    "            best_est = est\n",
    "print(\"Наибольшее значение f1\", best_f1, \"при количестве деревьев\", best_est, \"и максимальной глубине\", best_depth)"
   ]
  },
  {
   "cell_type": "markdown",
   "metadata": {},
   "source": [
    "Значение auc_roc у модели равно:"
   ]
  },
  {
   "cell_type": "code",
   "execution_count": 43,
   "metadata": {},
   "outputs": [
    {
     "name": "stdout",
     "output_type": "stream",
     "text": [
      "0.5766020408622171\n"
     ]
    }
   ],
   "source": [
    "probabilities_valid = model.predict_proba(features_valid)\n",
    "probabilities_one_valid = probabilities_valid[:, 1]\n",
    "\n",
    "auc_roc = roc_auc_score(target_valid, probabilities_one_valid)\n",
    "\n",
    "print(auc_roc)"
   ]
  },
  {
   "cell_type": "markdown",
   "metadata": {},
   "source": [
    "Промежуточные выводы:"
   ]
  },
  {
   "cell_type": "markdown",
   "metadata": {},
   "source": [
    "Метод upsampling:\n",
    "\n",
    "- Решающее дерево. f1 = 0.5703, auc_roc = 0.6809\n",
    "\n",
    "- Случайный лес. f1 = 0.5974, auc_roc = 0.8438\n",
    "\n",
    "Метод downsampling:\n",
    "\n",
    "- Решающее дерево. f1 = 0.3921, auc_roc = 0.5525\n",
    "\n",
    "- Случайный лес. f1 = 0.4189, auc_roc = 0.5119\n",
    "\n",
    "Балансировка данными методами не дает улучшения f1 метрики. Наилучшее значение наблюдается при применении upsampling у модели случайного леса при количестве деревьев 80 и максимальной глубине 9. В данном случае f1=0.5974."
   ]
  },
  {
   "cell_type": "markdown",
   "metadata": {},
   "source": [
    "## Тестирование модели"
   ]
  },
  {
   "cell_type": "markdown",
   "metadata": {},
   "source": [
    "Для проверки на тестовых данных выберем модель случайный лес при количестве деревьев 100 и максимальной глубине 10."
   ]
  },
  {
   "cell_type": "code",
   "execution_count": 46,
   "metadata": {},
   "outputs": [
    {
     "name": "stdout",
     "output_type": "stream",
     "text": [
      "F1: 0.6218487394957983\n"
     ]
    }
   ],
   "source": [
    "model = RandomForestClassifier(n_estimators=100, max_depth=10, class_weight='balanced')\n",
    "\n",
    "model.fit(features_train, target_train)\n",
    "\n",
    "predicted_test = model.predict(features_test)\n",
    "\n",
    "f1 = f1_score(target_test, predicted_test)\n",
    "\n",
    "print(\"F1:\", f1)"
   ]
  },
  {
   "cell_type": "code",
   "execution_count": 47,
   "metadata": {},
   "outputs": [
    {
     "name": "stdout",
     "output_type": "stream",
     "text": [
      "0.8551935954125055\n"
     ]
    }
   ],
   "source": [
    "probabilities_test = model.predict_proba(features_test)\n",
    "probabilities_one_test = probabilities_test[:, 1]\n",
    "\n",
    "auc_roc = roc_auc_score(target_test, probabilities_one_test)\n",
    "\n",
    "print(auc_roc)"
   ]
  },
  {
   "cell_type": "markdown",
   "metadata": {},
   "source": [
    "Построим ROC-кривую для данной модели."
   ]
  },
  {
   "cell_type": "code",
   "execution_count": 48,
   "metadata": {},
   "outputs": [
    {
     "data": {
      "image/png": "[encoded data removed]",
      "text/plain": [
       "<Figure size 576x576 with 1 Axes>"
      ]
     },
     "metadata": {
      "needs_background": "light"
     },
     "output_type": "display_data"
    }
   ],
   "source": [
    "probabilities_test = model.predict_proba(features_test)[:, 1]\n",
    "fpr, tpr, thresholds = roc_curve(target_test, probabilities_test)\n",
    "plt.figure(figsize=(8, 8))\n",
    "plt.title('ROC-кривая (кривая ошибок)')\n",
    "plt.plot([0, 1], [0, 1], linestyle='--')\n",
    "plt.plot(fpr, tpr)\n",
    "plt.legend(('Случайная модель', 'Финальная модель'))\n",
    "plt.show()"
   ]
  },
  {
   "cell_type": "markdown",
   "metadata": {},
   "source": [
    "AUC-ROC метрика финальной модели — 85% — сильно выше показателя случайной модели."
   ]
  },
  {
   "cell_type": "markdown",
   "metadata": {},
   "source": [
    "### Вывод"
   ]
  },
  {
   "cell_type": "markdown",
   "metadata": {},
   "source": [
    "Значение метрики f1 больше заявленного в задании минимума, так же значение auc_roc не на много отличается от значения при проверке на валидационной выборке (0.8535 на валидационной выборке).\n",
    "\n",
    "В ходе проекта была создана модель машинного обучения, дающая достаточно высокий уровень f1.\n",
    "\n",
    "Для этого первоначальные данные были обработаны: пропуски в столбце tenure заполнены средным значением, выполнена проверка на дубликаты, проверено отсутствие дубликатов в столбце с индивидуальным номером. Были обозначены объекты, признаки и целевой признак. Категориальные признаки Geography и Gender были преобразованы в численные С помощью техники OHE; \n",
    "\n",
    "Затем были удалены столбцы, не нужные для создания модели, и весь датасет разделен на три выборки: обучающую (60%), тестовую (20%) и валидационную (20%).\n",
    "\n",
    "Сначала было проведено обучение моделей без учета дисбаланса классов (было выявлено, что отношение не ушедших клиентов к ушедшим составляет 4 к 1). Были обучены модели решающее дерево, случайный лес, логистическая регрессия. В моделях были использованы различные значения гиперпараметров, чтобы найти наибольшее значение f1 и auc-roc.\n",
    "\n",
    "Затем провели обучение моделей уже с учетом дисбаланса классов, используя следующие методы: атрибут class_weight, увеличение и уменьшение выборки.\n",
    "\n",
    "В ходе борьбы с дисбалансом максимального значения f1 удалось добиться при использовании атрибута class_weight и модели случайного леса с количеством деревьев 100 и максимальной глубиной 10. Увеличение и уменьшение выборки не дали никаких результатов. Данная модель с указанными гиперпараметрами была использована для проверки на тестовой выборке, где значения f1=0.6218 и auc_roc=0,8552, что соответствует поставленному в задаче условию.\n",
    "\n",
    "Было выполнено сравнение финальной модели с константной моделью, и финальная модель показала себя лучше: точность 0,84 (у константной - 0,209), auc-roc 0.8552 (у константной - 0,5). С помощью метрики recall было установлено, что финальная модель верно определит массив ушедших клиентов с вероятностью 0.61. У случайной модели f1=0.3457, что намного меньше, чем у финальной модели.\n"
   ]
  },
  {
   "cell_type": "markdown",
   "metadata": {},
   "source": [
    "Сравнение финальной модели с константной моделью.\n",
    "\n",
    "Сравним модели по метрикам. В константной модели предскажем везде 1."
   ]
  },
  {
   "cell_type": "code",
   "execution_count": 54,
   "metadata": {},
   "outputs": [
    {
     "name": "stdout",
     "output_type": "stream",
     "text": [
      "F1: 0.3457402812241522\n"
     ]
    }
   ],
   "source": [
    "dummy_model = DummyClassifier(strategy='constant', constant=1)\n",
    "dummy_model.fit(features_train, target_train)\n",
    "f1_dummy = f1_score(target_test, dummy_model.predict(features_test))\n",
    "print(\"F1:\", f1_dummy)"
   ]
  },
  {
   "cell_type": "code",
   "execution_count": 50,
   "metadata": {},
   "outputs": [
    {
     "name": "stdout",
     "output_type": "stream",
     "text": [
      "Точность константной модели 0.209\n",
      "Точность финальной модели 0.8425\n",
      "AUC-ROC константной модели 0.5\n",
      "AUC-ROC финальной модели 0.8551935954125055\n"
     ]
    }
   ],
   "source": [
    "\n",
    "print('Точность константной модели', accuracy_score(target_test, dummy_model.predict(features_test)))\n",
    "\n",
    "print('Точность финальной модели', accuracy_score(target_test, predicted_test))\n",
    "\n",
    "print('AUC-ROC константной модели', roc_auc_score(target_test, dummy_model.predict(features_test)))\n",
    "\n",
    "print('AUC-ROC финальной модели', roc_auc_score(target_test, probabilities_one_test))\n"
   ]
  },
  {
   "cell_type": "markdown",
   "metadata": {},
   "source": [
    "Также посмотрим, какую долю клиентов на отток модель верно детектирует. Воспользуемся метрикой recall."
   ]
  },
  {
   "cell_type": "code",
   "execution_count": 51,
   "metadata": {},
   "outputs": [
    {
     "name": "stdout",
     "output_type": "stream",
     "text": [
      "Модель верно определит массив ушедших клиентов с вероятностью 0.6196172248803827\n"
     ]
    }
   ],
   "source": [
    "print('Модель верно определит массив ушедших клиентов с вероятностью', recall_score(target_test, predicted_test))"
   ]
  },
  {
   "cell_type": "markdown",
   "metadata": {},
   "source": [
    "## Чек-лист готовности проекта"
   ]
  },
  {
   "cell_type": "markdown",
   "metadata": {},
   "source": [
    "Поставьте 'x' в выполненных пунктах. Далее нажмите Shift+Enter."
   ]
  },
  {
   "cell_type": "markdown",
   "metadata": {},
   "source": [
    "- [x]  Jupyter Notebook открыт\n",
    "- [x]  Весь код выполняется без ошибок\n",
    "- [x]  Ячейки с кодом расположены в порядке исполнения\n",
    "- [x]  Выполнен шаг 1: данные подготовлены\n",
    "- [x]  Выполнен шаг 2: задача исследована\n",
    "    - [x]  Исследован баланс классов\n",
    "    - [x]  Изучены модели без учёта дисбаланса\n",
    "    - [x]  Написаны выводы по результатам исследования\n",
    "- [x]  Выполнен шаг 3: учтён дисбаланс\n",
    "    - [x]  Применено несколько способов борьбы с дисбалансом\n",
    "    - [x]  Написаны выводы по результатам исследования\n",
    "- [x]  Выполнен шаг 4: проведено тестирование\n",
    "- [x]  Удалось достичь *F1*-меры не менее 0.59\n",
    "- [x]  Исследована метрика *AUC-ROC*"
   ]
  },
  {
   "cell_type": "code",
   "execution_count": null,
   "metadata": {},
   "outputs": [],
   "source": []
  }
 ],
 "metadata": {
  "ExecuteTimeLog": [
   {
    "duration": 415,
    "start_time": "2023-06-14T17:12:26.430Z"
   },
   {
    "duration": 105,
    "start_time": "2023-06-14T17:12:26.848Z"
   },
   {
    "duration": 8,
    "start_time": "2023-06-14T17:12:27.285Z"
   },
   {
    "duration": 95,
    "start_time": "2023-06-14T17:12:47.599Z"
   },
   {
    "duration": 20,
    "start_time": "2023-06-14T17:12:48.384Z"
   },
   {
    "duration": 57,
    "start_time": "2023-06-14T17:16:15.635Z"
   },
   {
    "duration": 13,
    "start_time": "2023-06-14T17:16:27.401Z"
   },
   {
    "duration": 5,
    "start_time": "2023-06-14T17:31:10.054Z"
   },
   {
    "duration": 15,
    "start_time": "2023-06-14T17:38:29.650Z"
   },
   {
    "duration": 5,
    "start_time": "2023-06-14T17:40:47.583Z"
   },
   {
    "duration": 5,
    "start_time": "2023-06-14T17:41:26.631Z"
   },
   {
    "duration": 22,
    "start_time": "2023-06-14T18:02:06.490Z"
   },
   {
    "duration": 8,
    "start_time": "2023-06-14T18:03:10.434Z"
   },
   {
    "duration": 6,
    "start_time": "2023-06-14T18:06:32.828Z"
   },
   {
    "duration": 6,
    "start_time": "2023-06-14T18:06:46.469Z"
   },
   {
    "duration": 13,
    "start_time": "2023-06-14T18:12:46.486Z"
   },
   {
    "duration": 8,
    "start_time": "2023-06-14T18:13:06.996Z"
   },
   {
    "duration": 9,
    "start_time": "2023-06-14T18:16:55.301Z"
   },
   {
    "duration": 9,
    "start_time": "2023-06-14T18:17:20.675Z"
   },
   {
    "duration": 8,
    "start_time": "2023-06-14T18:19:24.213Z"
   },
   {
    "duration": 434,
    "start_time": "2023-06-14T18:19:35.336Z"
   },
   {
    "duration": 43,
    "start_time": "2023-06-14T18:19:35.774Z"
   },
   {
    "duration": 19,
    "start_time": "2023-06-14T18:19:35.818Z"
   },
   {
    "duration": 48,
    "start_time": "2023-06-14T18:19:35.838Z"
   },
   {
    "duration": 12,
    "start_time": "2023-06-14T18:19:35.887Z"
   },
   {
    "duration": 16,
    "start_time": "2023-06-14T18:19:35.900Z"
   },
   {
    "duration": 12,
    "start_time": "2023-06-14T18:19:35.917Z"
   },
   {
    "duration": 23,
    "start_time": "2023-06-14T18:19:35.930Z"
   },
   {
    "duration": 6,
    "start_time": "2023-06-14T18:19:35.954Z"
   },
   {
    "duration": 14,
    "start_time": "2023-06-14T18:20:44.223Z"
   },
   {
    "duration": 679,
    "start_time": "2023-06-15T17:48:02.047Z"
   },
   {
    "duration": 308,
    "start_time": "2023-06-15T17:48:02.728Z"
   },
   {
    "duration": 48,
    "start_time": "2023-06-15T17:48:03.045Z"
   },
   {
    "duration": 86,
    "start_time": "2023-06-15T17:48:03.098Z"
   },
   {
    "duration": 28,
    "start_time": "2023-06-15T17:48:03.190Z"
   },
   {
    "duration": 13,
    "start_time": "2023-06-15T17:48:03.223Z"
   },
   {
    "duration": 18,
    "start_time": "2023-06-15T17:48:03.241Z"
   },
   {
    "duration": 27,
    "start_time": "2023-06-15T17:48:03.266Z"
   },
   {
    "duration": 13,
    "start_time": "2023-06-15T17:48:03.297Z"
   },
   {
    "duration": 32,
    "start_time": "2023-06-15T17:48:03.317Z"
   },
   {
    "duration": 22,
    "start_time": "2023-06-15T17:48:03.358Z"
   },
   {
    "duration": 44,
    "start_time": "2023-06-15T17:53:10.269Z"
   },
   {
    "duration": 33,
    "start_time": "2023-06-15T17:53:27.724Z"
   },
   {
    "duration": 96,
    "start_time": "2023-06-15T17:56:46.743Z"
   },
   {
    "duration": 21,
    "start_time": "2023-06-15T17:56:56.809Z"
   },
   {
    "duration": 18,
    "start_time": "2023-06-15T17:57:07.219Z"
   },
   {
    "duration": 19,
    "start_time": "2023-06-15T18:08:33.767Z"
   },
   {
    "duration": 1032,
    "start_time": "2023-06-16T16:51:49.227Z"
   },
   {
    "duration": 81,
    "start_time": "2023-06-16T16:51:50.261Z"
   },
   {
    "duration": 20,
    "start_time": "2023-06-16T16:51:50.344Z"
   },
   {
    "duration": 39,
    "start_time": "2023-06-16T16:51:50.365Z"
   },
   {
    "duration": 11,
    "start_time": "2023-06-16T16:51:50.407Z"
   },
   {
    "duration": 17,
    "start_time": "2023-06-16T16:51:50.420Z"
   },
   {
    "duration": 16,
    "start_time": "2023-06-16T16:51:50.438Z"
   },
   {
    "duration": 7,
    "start_time": "2023-06-16T16:51:50.455Z"
   },
   {
    "duration": 14,
    "start_time": "2023-06-16T16:51:50.464Z"
   },
   {
    "duration": 7,
    "start_time": "2023-06-16T16:51:50.480Z"
   },
   {
    "duration": 7,
    "start_time": "2023-06-16T16:51:50.489Z"
   },
   {
    "duration": 11,
    "start_time": "2023-06-16T16:51:50.498Z"
   },
   {
    "duration": 9,
    "start_time": "2023-06-16T16:51:50.511Z"
   },
   {
    "duration": 15,
    "start_time": "2023-06-16T16:51:50.523Z"
   },
   {
    "duration": 7,
    "start_time": "2023-06-16T16:51:50.569Z"
   },
   {
    "duration": 1042,
    "start_time": "2023-06-16T16:51:50.578Z"
   },
   {
    "duration": 1091,
    "start_time": "2023-06-16T16:52:37.139Z"
   },
   {
    "duration": 39,
    "start_time": "2023-06-16T16:52:38.233Z"
   },
   {
    "duration": 20,
    "start_time": "2023-06-16T16:52:38.273Z"
   },
   {
    "duration": 39,
    "start_time": "2023-06-16T16:52:38.294Z"
   },
   {
    "duration": 33,
    "start_time": "2023-06-16T16:52:38.335Z"
   },
   {
    "duration": 5,
    "start_time": "2023-06-16T16:52:38.370Z"
   },
   {
    "duration": 9,
    "start_time": "2023-06-16T16:52:38.377Z"
   },
   {
    "duration": 21,
    "start_time": "2023-06-16T16:52:38.388Z"
   },
   {
    "duration": 26,
    "start_time": "2023-06-16T16:52:38.412Z"
   },
   {
    "duration": 16,
    "start_time": "2023-06-16T16:52:38.440Z"
   },
   {
    "duration": 22,
    "start_time": "2023-06-16T16:52:38.457Z"
   },
   {
    "duration": 34,
    "start_time": "2023-06-16T16:52:38.480Z"
   },
   {
    "duration": 27,
    "start_time": "2023-06-16T16:52:38.516Z"
   },
   {
    "duration": 18,
    "start_time": "2023-06-16T16:52:38.546Z"
   },
   {
    "duration": 43,
    "start_time": "2023-06-16T16:52:38.566Z"
   },
   {
    "duration": 25,
    "start_time": "2023-06-16T16:52:38.611Z"
   },
   {
    "duration": 1362,
    "start_time": "2023-06-16T17:24:37.736Z"
   },
   {
    "duration": 40,
    "start_time": "2023-06-16T17:24:39.100Z"
   },
   {
    "duration": 25,
    "start_time": "2023-06-16T17:24:39.142Z"
   },
   {
    "duration": 51,
    "start_time": "2023-06-16T17:24:39.168Z"
   },
   {
    "duration": 16,
    "start_time": "2023-06-16T17:24:39.222Z"
   },
   {
    "duration": 6,
    "start_time": "2023-06-16T17:24:39.239Z"
   },
   {
    "duration": 25,
    "start_time": "2023-06-16T17:24:39.246Z"
   },
   {
    "duration": 6,
    "start_time": "2023-06-16T17:24:39.273Z"
   },
   {
    "duration": 36,
    "start_time": "2023-06-16T17:24:39.281Z"
   },
   {
    "duration": 6,
    "start_time": "2023-06-16T17:24:39.319Z"
   },
   {
    "duration": 5,
    "start_time": "2023-06-16T17:24:39.327Z"
   },
   {
    "duration": 16,
    "start_time": "2023-06-16T17:24:39.333Z"
   },
   {
    "duration": 23,
    "start_time": "2023-06-16T17:24:39.351Z"
   },
   {
    "duration": 18,
    "start_time": "2023-06-16T17:24:39.377Z"
   },
   {
    "duration": 6,
    "start_time": "2023-06-16T17:24:39.397Z"
   },
   {
    "duration": 13,
    "start_time": "2023-06-16T17:24:39.405Z"
   },
   {
    "duration": 60,
    "start_time": "2023-06-16T17:24:39.420Z"
   },
   {
    "duration": 65,
    "start_time": "2023-06-16T17:24:39.482Z"
   },
   {
    "duration": 106,
    "start_time": "2023-06-16T17:24:55.163Z"
   },
   {
    "duration": 13,
    "start_time": "2023-06-16T17:25:03.392Z"
   },
   {
    "duration": 21,
    "start_time": "2023-06-16T17:25:45.176Z"
   },
   {
    "duration": 1163,
    "start_time": "2023-06-16T17:26:59.862Z"
   },
   {
    "duration": 44,
    "start_time": "2023-06-16T17:27:01.027Z"
   },
   {
    "duration": 25,
    "start_time": "2023-06-16T17:27:01.075Z"
   },
   {
    "duration": 60,
    "start_time": "2023-06-16T17:27:01.103Z"
   },
   {
    "duration": 16,
    "start_time": "2023-06-16T17:27:01.165Z"
   },
   {
    "duration": 46,
    "start_time": "2023-06-16T17:27:01.183Z"
   },
   {
    "duration": 63,
    "start_time": "2023-06-16T17:27:01.231Z"
   },
   {
    "duration": 38,
    "start_time": "2023-06-16T17:27:01.297Z"
   },
   {
    "duration": 69,
    "start_time": "2023-06-16T17:27:01.337Z"
   },
   {
    "duration": 84,
    "start_time": "2023-06-16T17:27:01.408Z"
   },
   {
    "duration": 46,
    "start_time": "2023-06-16T17:27:01.494Z"
   },
   {
    "duration": 40,
    "start_time": "2023-06-16T17:27:01.542Z"
   },
   {
    "duration": 46,
    "start_time": "2023-06-16T17:27:01.585Z"
   },
   {
    "duration": 26,
    "start_time": "2023-06-16T17:27:01.633Z"
   },
   {
    "duration": 39,
    "start_time": "2023-06-16T17:27:01.661Z"
   },
   {
    "duration": 26,
    "start_time": "2023-06-16T17:27:01.702Z"
   },
   {
    "duration": 50,
    "start_time": "2023-06-16T17:27:01.730Z"
   },
   {
    "duration": 123,
    "start_time": "2023-06-16T17:27:01.782Z"
   },
   {
    "duration": 465,
    "start_time": "2023-06-16T17:27:17.741Z"
   },
   {
    "duration": 6,
    "start_time": "2023-06-16T17:29:49.735Z"
   },
   {
    "duration": 10,
    "start_time": "2023-06-16T17:30:10.581Z"
   },
   {
    "duration": 1164,
    "start_time": "2023-06-18T14:11:10.191Z"
   },
   {
    "duration": 436,
    "start_time": "2023-06-18T14:11:11.357Z"
   },
   {
    "duration": 24,
    "start_time": "2023-06-18T14:11:11.795Z"
   },
   {
    "duration": 70,
    "start_time": "2023-06-18T14:11:11.820Z"
   },
   {
    "duration": 26,
    "start_time": "2023-06-18T14:11:11.896Z"
   },
   {
    "duration": 5,
    "start_time": "2023-06-18T14:11:11.925Z"
   },
   {
    "duration": 9,
    "start_time": "2023-06-18T14:11:11.932Z"
   },
   {
    "duration": 6,
    "start_time": "2023-06-18T14:11:11.942Z"
   },
   {
    "duration": 34,
    "start_time": "2023-06-18T14:11:11.950Z"
   },
   {
    "duration": 9,
    "start_time": "2023-06-18T14:11:11.987Z"
   },
   {
    "duration": 15,
    "start_time": "2023-06-18T14:11:11.999Z"
   },
   {
    "duration": 18,
    "start_time": "2023-06-18T14:11:12.015Z"
   },
   {
    "duration": 11,
    "start_time": "2023-06-18T14:11:12.035Z"
   },
   {
    "duration": 36,
    "start_time": "2023-06-18T14:11:12.050Z"
   },
   {
    "duration": 10,
    "start_time": "2023-06-18T14:11:12.087Z"
   },
   {
    "duration": 10,
    "start_time": "2023-06-18T14:11:12.099Z"
   },
   {
    "duration": 38,
    "start_time": "2023-06-18T14:11:12.111Z"
   },
   {
    "duration": 458,
    "start_time": "2023-06-18T14:11:12.165Z"
   },
   {
    "duration": 8,
    "start_time": "2023-06-18T14:11:12.625Z"
   },
   {
    "duration": 143,
    "start_time": "2023-06-18T14:11:12.635Z"
   },
   {
    "duration": 1133,
    "start_time": "2023-06-18T14:11:36.087Z"
   },
   {
    "duration": 43,
    "start_time": "2023-06-18T14:11:37.222Z"
   },
   {
    "duration": 24,
    "start_time": "2023-06-18T14:11:37.267Z"
   },
   {
    "duration": 44,
    "start_time": "2023-06-18T14:11:37.293Z"
   },
   {
    "duration": 33,
    "start_time": "2023-06-18T14:11:37.340Z"
   },
   {
    "duration": 19,
    "start_time": "2023-06-18T14:11:37.376Z"
   },
   {
    "duration": 22,
    "start_time": "2023-06-18T14:11:37.396Z"
   },
   {
    "duration": 9,
    "start_time": "2023-06-18T14:11:37.420Z"
   },
   {
    "duration": 22,
    "start_time": "2023-06-18T14:11:37.430Z"
   },
   {
    "duration": 11,
    "start_time": "2023-06-18T14:11:37.454Z"
   },
   {
    "duration": 11,
    "start_time": "2023-06-18T14:11:37.481Z"
   },
   {
    "duration": 30,
    "start_time": "2023-06-18T14:11:37.494Z"
   },
   {
    "duration": 23,
    "start_time": "2023-06-18T14:11:37.526Z"
   },
   {
    "duration": 28,
    "start_time": "2023-06-18T14:11:37.552Z"
   },
   {
    "duration": 13,
    "start_time": "2023-06-18T14:11:37.582Z"
   },
   {
    "duration": 14,
    "start_time": "2023-06-18T14:11:37.597Z"
   },
   {
    "duration": 37,
    "start_time": "2023-06-18T14:11:37.613Z"
   },
   {
    "duration": 471,
    "start_time": "2023-06-18T14:11:37.651Z"
   },
   {
    "duration": 7,
    "start_time": "2023-06-18T14:11:38.124Z"
   },
   {
    "duration": 19791,
    "start_time": "2023-06-18T14:11:38.133Z"
   },
   {
    "duration": 1220,
    "start_time": "2023-06-18T14:14:31.982Z"
   },
   {
    "duration": 42,
    "start_time": "2023-06-18T14:14:33.204Z"
   },
   {
    "duration": 149,
    "start_time": "2023-06-18T14:14:33.248Z"
   },
   {
    "duration": 42,
    "start_time": "2023-06-18T14:14:33.399Z"
   },
   {
    "duration": 22,
    "start_time": "2023-06-18T14:14:33.444Z"
   },
   {
    "duration": 10,
    "start_time": "2023-06-18T14:14:33.474Z"
   },
   {
    "duration": 32,
    "start_time": "2023-06-18T14:14:33.486Z"
   },
   {
    "duration": 9,
    "start_time": "2023-06-18T14:14:33.520Z"
   },
   {
    "duration": 13,
    "start_time": "2023-06-18T14:14:33.530Z"
   },
   {
    "duration": 11,
    "start_time": "2023-06-18T14:14:33.545Z"
   },
   {
    "duration": 24,
    "start_time": "2023-06-18T14:14:33.566Z"
   },
   {
    "duration": 13,
    "start_time": "2023-06-18T14:14:33.592Z"
   },
   {
    "duration": 11,
    "start_time": "2023-06-18T14:14:33.607Z"
   },
   {
    "duration": 11,
    "start_time": "2023-06-18T14:14:33.621Z"
   },
   {
    "duration": 5,
    "start_time": "2023-06-18T14:14:33.634Z"
   },
   {
    "duration": 16,
    "start_time": "2023-06-18T14:14:33.641Z"
   },
   {
    "duration": 43,
    "start_time": "2023-06-18T14:14:33.659Z"
   },
   {
    "duration": 507,
    "start_time": "2023-06-18T14:14:33.704Z"
   },
   {
    "duration": 9,
    "start_time": "2023-06-18T14:14:34.213Z"
   },
   {
    "duration": 61055,
    "start_time": "2023-06-18T14:14:34.223Z"
   },
   {
    "duration": 1183,
    "start_time": "2023-06-18T14:16:24.696Z"
   },
   {
    "duration": 41,
    "start_time": "2023-06-18T14:16:25.884Z"
   },
   {
    "duration": 21,
    "start_time": "2023-06-18T14:16:25.927Z"
   },
   {
    "duration": 45,
    "start_time": "2023-06-18T14:16:25.950Z"
   },
   {
    "duration": 12,
    "start_time": "2023-06-18T14:16:25.998Z"
   },
   {
    "duration": 5,
    "start_time": "2023-06-18T14:16:26.012Z"
   },
   {
    "duration": 6,
    "start_time": "2023-06-18T14:16:26.018Z"
   },
   {
    "duration": 4,
    "start_time": "2023-06-18T14:16:26.026Z"
   },
   {
    "duration": 44,
    "start_time": "2023-06-18T14:16:26.031Z"
   },
   {
    "duration": 6,
    "start_time": "2023-06-18T14:16:26.079Z"
   },
   {
    "duration": 5,
    "start_time": "2023-06-18T14:16:26.089Z"
   },
   {
    "duration": 11,
    "start_time": "2023-06-18T14:16:26.096Z"
   },
   {
    "duration": 11,
    "start_time": "2023-06-18T14:16:26.108Z"
   },
   {
    "duration": 11,
    "start_time": "2023-06-18T14:16:26.121Z"
   },
   {
    "duration": 30,
    "start_time": "2023-06-18T14:16:26.133Z"
   },
   {
    "duration": 18,
    "start_time": "2023-06-18T14:16:26.167Z"
   },
   {
    "duration": 32,
    "start_time": "2023-06-18T14:16:26.187Z"
   },
   {
    "duration": 439,
    "start_time": "2023-06-18T14:16:26.220Z"
   },
   {
    "duration": 17,
    "start_time": "2023-06-18T14:16:26.667Z"
   },
   {
    "duration": 61579,
    "start_time": "2023-06-18T14:16:26.687Z"
   },
   {
    "duration": 68,
    "start_time": "2023-06-18T14:18:14.262Z"
   },
   {
    "duration": 1181,
    "start_time": "2023-06-18T14:23:17.651Z"
   },
   {
    "duration": 55,
    "start_time": "2023-06-18T14:23:18.834Z"
   },
   {
    "duration": 29,
    "start_time": "2023-06-18T14:23:18.891Z"
   },
   {
    "duration": 56,
    "start_time": "2023-06-18T14:23:18.922Z"
   },
   {
    "duration": 14,
    "start_time": "2023-06-18T14:23:18.980Z"
   },
   {
    "duration": 5,
    "start_time": "2023-06-18T14:23:18.996Z"
   },
   {
    "duration": 7,
    "start_time": "2023-06-18T14:23:19.002Z"
   },
   {
    "duration": 11,
    "start_time": "2023-06-18T14:23:19.010Z"
   },
   {
    "duration": 41,
    "start_time": "2023-06-18T14:23:19.023Z"
   },
   {
    "duration": 4,
    "start_time": "2023-06-18T14:23:19.073Z"
   },
   {
    "duration": 28,
    "start_time": "2023-06-18T14:23:19.079Z"
   },
   {
    "duration": 13,
    "start_time": "2023-06-18T14:23:19.109Z"
   },
   {
    "duration": 21,
    "start_time": "2023-06-18T14:23:19.124Z"
   },
   {
    "duration": 23,
    "start_time": "2023-06-18T14:23:19.148Z"
   },
   {
    "duration": 5,
    "start_time": "2023-06-18T14:23:19.173Z"
   },
   {
    "duration": 11,
    "start_time": "2023-06-18T14:23:19.180Z"
   },
   {
    "duration": 33,
    "start_time": "2023-06-18T14:23:19.193Z"
   },
   {
    "duration": 443,
    "start_time": "2023-06-18T14:23:19.228Z"
   },
   {
    "duration": 8,
    "start_time": "2023-06-18T14:23:19.672Z"
   },
   {
    "duration": 57920,
    "start_time": "2023-06-18T14:23:19.682Z"
   },
   {
    "duration": 67,
    "start_time": "2023-06-18T14:24:17.604Z"
   },
   {
    "duration": 22,
    "start_time": "2023-06-18T14:24:17.675Z"
   },
   {
    "duration": 12,
    "start_time": "2023-06-18T14:27:28.020Z"
   },
   {
    "duration": 540,
    "start_time": "2023-06-18T14:40:32.430Z"
   },
   {
    "duration": 8,
    "start_time": "2023-06-18T14:41:37.646Z"
   },
   {
    "duration": 64116,
    "start_time": "2023-06-18T14:42:43.651Z"
   },
   {
    "duration": 73,
    "start_time": "2023-06-18T14:49:33.790Z"
   },
   {
    "duration": 1313,
    "start_time": "2023-06-18T14:50:09.666Z"
   },
   {
    "duration": 55,
    "start_time": "2023-06-18T14:50:10.982Z"
   },
   {
    "duration": 26,
    "start_time": "2023-06-18T14:50:11.039Z"
   },
   {
    "duration": 72,
    "start_time": "2023-06-18T14:50:11.070Z"
   },
   {
    "duration": 22,
    "start_time": "2023-06-18T14:50:11.146Z"
   },
   {
    "duration": 12,
    "start_time": "2023-06-18T14:50:11.170Z"
   },
   {
    "duration": 11,
    "start_time": "2023-06-18T14:50:11.184Z"
   },
   {
    "duration": 9,
    "start_time": "2023-06-18T14:50:11.197Z"
   },
   {
    "duration": 19,
    "start_time": "2023-06-18T14:50:11.208Z"
   },
   {
    "duration": 6,
    "start_time": "2023-06-18T14:50:11.229Z"
   },
   {
    "duration": 23,
    "start_time": "2023-06-18T14:50:11.237Z"
   },
   {
    "duration": 26,
    "start_time": "2023-06-18T14:50:11.261Z"
   },
   {
    "duration": 11,
    "start_time": "2023-06-18T14:50:11.291Z"
   },
   {
    "duration": 16,
    "start_time": "2023-06-18T14:50:11.304Z"
   },
   {
    "duration": 12,
    "start_time": "2023-06-18T14:50:11.323Z"
   },
   {
    "duration": 24,
    "start_time": "2023-06-18T14:50:11.338Z"
   },
   {
    "duration": 49,
    "start_time": "2023-06-18T14:50:11.367Z"
   },
   {
    "duration": 488,
    "start_time": "2023-06-18T14:50:11.419Z"
   },
   {
    "duration": 9,
    "start_time": "2023-06-18T14:50:11.909Z"
   },
   {
    "duration": 62255,
    "start_time": "2023-06-18T14:50:11.921Z"
   },
   {
    "duration": 62,
    "start_time": "2023-06-18T14:51:14.178Z"
   },
   {
    "duration": 43,
    "start_time": "2023-06-18T14:51:14.242Z"
   },
   {
    "duration": 76,
    "start_time": "2023-06-18T14:51:14.287Z"
   },
   {
    "duration": 562,
    "start_time": "2023-06-18T14:51:14.365Z"
   },
   {
    "duration": 12,
    "start_time": "2023-06-18T14:51:14.929Z"
   },
   {
    "duration": 57884,
    "start_time": "2023-06-18T14:51:14.943Z"
   },
   {
    "duration": 69,
    "start_time": "2023-06-18T14:52:12.829Z"
   },
   {
    "duration": 22,
    "start_time": "2023-06-18T14:52:12.900Z"
   },
   {
    "duration": 18,
    "start_time": "2023-06-18T14:52:12.958Z"
   },
   {
    "duration": 112,
    "start_time": "2023-06-18T15:03:42.716Z"
   },
   {
    "duration": 72,
    "start_time": "2023-06-18T15:04:30.928Z"
   },
   {
    "duration": 1644,
    "start_time": "2023-06-18T15:21:06.432Z"
   },
   {
    "duration": 1475,
    "start_time": "2023-06-18T15:21:35.238Z"
   },
   {
    "duration": 18,
    "start_time": "2023-06-18T15:21:39.793Z"
   },
   {
    "duration": 10,
    "start_time": "2023-06-18T15:21:59.701Z"
   },
   {
    "duration": 1318,
    "start_time": "2023-06-18T15:33:01.691Z"
   },
   {
    "duration": 42,
    "start_time": "2023-06-18T15:33:03.011Z"
   },
   {
    "duration": 34,
    "start_time": "2023-06-18T15:33:03.055Z"
   },
   {
    "duration": 44,
    "start_time": "2023-06-18T15:33:03.090Z"
   },
   {
    "duration": 27,
    "start_time": "2023-06-18T15:33:03.137Z"
   },
   {
    "duration": 8,
    "start_time": "2023-06-18T15:33:03.166Z"
   },
   {
    "duration": 14,
    "start_time": "2023-06-18T15:33:03.175Z"
   },
   {
    "duration": 23,
    "start_time": "2023-06-18T15:33:03.194Z"
   },
   {
    "duration": 15,
    "start_time": "2023-06-18T15:33:03.218Z"
   },
   {
    "duration": 6,
    "start_time": "2023-06-18T15:33:03.234Z"
   },
   {
    "duration": 5,
    "start_time": "2023-06-18T15:33:03.242Z"
   },
   {
    "duration": 26,
    "start_time": "2023-06-18T15:33:03.249Z"
   },
   {
    "duration": 17,
    "start_time": "2023-06-18T15:33:03.277Z"
   },
   {
    "duration": 12,
    "start_time": "2023-06-18T15:33:03.299Z"
   },
   {
    "duration": 23,
    "start_time": "2023-06-18T15:33:03.314Z"
   },
   {
    "duration": 11,
    "start_time": "2023-06-18T15:33:03.339Z"
   },
   {
    "duration": 39,
    "start_time": "2023-06-18T15:33:03.360Z"
   },
   {
    "duration": 474,
    "start_time": "2023-06-18T15:33:03.401Z"
   },
   {
    "duration": 12,
    "start_time": "2023-06-18T15:33:03.881Z"
   },
   {
    "duration": 61233,
    "start_time": "2023-06-18T15:33:03.895Z"
   },
   {
    "duration": 70,
    "start_time": "2023-06-18T15:34:05.129Z"
   },
   {
    "duration": 61,
    "start_time": "2023-06-18T15:34:05.201Z"
   },
   {
    "duration": 104,
    "start_time": "2023-06-18T15:34:05.265Z"
   },
   {
    "duration": 545,
    "start_time": "2023-06-18T15:34:05.375Z"
   },
   {
    "duration": 9,
    "start_time": "2023-06-18T15:34:05.922Z"
   },
   {
    "duration": 61266,
    "start_time": "2023-06-18T15:34:05.933Z"
   },
   {
    "duration": 72,
    "start_time": "2023-06-18T15:35:07.201Z"
   },
   {
    "duration": 26,
    "start_time": "2023-06-18T15:35:07.276Z"
   },
   {
    "duration": 75,
    "start_time": "2023-06-18T15:35:07.304Z"
   },
   {
    "duration": 101,
    "start_time": "2023-06-18T15:35:07.382Z"
   },
   {
    "duration": 124,
    "start_time": "2023-06-18T15:35:07.559Z"
   },
   {
    "duration": 0,
    "start_time": "2023-06-18T15:35:07.685Z"
   },
   {
    "duration": 0,
    "start_time": "2023-06-18T15:35:07.687Z"
   },
   {
    "duration": 1416,
    "start_time": "2023-06-18T15:35:43.323Z"
   },
   {
    "duration": 54,
    "start_time": "2023-06-18T15:35:44.741Z"
   },
   {
    "duration": 34,
    "start_time": "2023-06-18T15:35:44.797Z"
   },
   {
    "duration": 65,
    "start_time": "2023-06-18T15:35:44.833Z"
   },
   {
    "duration": 15,
    "start_time": "2023-06-18T15:35:44.900Z"
   },
   {
    "duration": 6,
    "start_time": "2023-06-18T15:35:44.917Z"
   },
   {
    "duration": 9,
    "start_time": "2023-06-18T15:35:44.925Z"
   },
   {
    "duration": 7,
    "start_time": "2023-06-18T15:35:44.958Z"
   },
   {
    "duration": 19,
    "start_time": "2023-06-18T15:35:44.970Z"
   },
   {
    "duration": 9,
    "start_time": "2023-06-18T15:35:44.996Z"
   },
   {
    "duration": 38,
    "start_time": "2023-06-18T15:35:45.007Z"
   },
   {
    "duration": 21,
    "start_time": "2023-06-18T15:35:45.047Z"
   },
   {
    "duration": 33,
    "start_time": "2023-06-18T15:35:45.070Z"
   },
   {
    "duration": 18,
    "start_time": "2023-06-18T15:35:45.105Z"
   },
   {
    "duration": 13,
    "start_time": "2023-06-18T15:35:45.124Z"
   },
   {
    "duration": 11,
    "start_time": "2023-06-18T15:35:45.138Z"
   },
   {
    "duration": 43,
    "start_time": "2023-06-18T15:35:45.150Z"
   },
   {
    "duration": 485,
    "start_time": "2023-06-18T15:35:45.196Z"
   },
   {
    "duration": 12,
    "start_time": "2023-06-18T15:35:45.683Z"
   },
   {
    "duration": 60050,
    "start_time": "2023-06-18T15:35:45.697Z"
   },
   {
    "duration": 70,
    "start_time": "2023-06-18T15:36:45.749Z"
   },
   {
    "duration": 47,
    "start_time": "2023-06-18T15:36:45.821Z"
   },
   {
    "duration": 89,
    "start_time": "2023-06-18T15:36:45.874Z"
   },
   {
    "duration": 579,
    "start_time": "2023-06-18T15:36:45.965Z"
   },
   {
    "duration": 13,
    "start_time": "2023-06-18T15:36:46.546Z"
   },
   {
    "duration": 59406,
    "start_time": "2023-06-18T15:36:46.574Z"
   },
   {
    "duration": 63,
    "start_time": "2023-06-18T15:37:45.983Z"
   },
   {
    "duration": 33,
    "start_time": "2023-06-18T15:37:46.061Z"
   },
   {
    "duration": 101,
    "start_time": "2023-06-18T15:37:46.169Z"
   },
   {
    "duration": 14,
    "start_time": "2023-06-18T15:37:46.272Z"
   },
   {
    "duration": 87,
    "start_time": "2023-06-18T15:37:46.287Z"
   },
   {
    "duration": 1121,
    "start_time": "2023-06-18T15:37:46.376Z"
   },
   {
    "duration": 8,
    "start_time": "2023-06-18T15:37:47.499Z"
   },
   {
    "duration": 5395,
    "start_time": "2023-06-18T15:40:27.034Z"
   },
   {
    "duration": 12,
    "start_time": "2023-06-18T15:40:56.333Z"
   },
   {
    "duration": 103,
    "start_time": "2023-06-18T15:42:06.665Z"
   },
   {
    "duration": 12,
    "start_time": "2023-06-18T15:42:14.983Z"
   },
   {
    "duration": 10,
    "start_time": "2023-06-18T15:47:56.691Z"
   },
   {
    "duration": 289,
    "start_time": "2023-06-18T15:49:15.538Z"
   },
   {
    "duration": 9,
    "start_time": "2023-06-18T15:49:38.389Z"
   },
   {
    "duration": 2026,
    "start_time": "2023-06-18T15:51:06.785Z"
   },
   {
    "duration": 47480,
    "start_time": "2023-06-18T15:52:16.598Z"
   },
   {
    "duration": 93,
    "start_time": "2023-06-18T15:55:32.270Z"
   },
   {
    "duration": 1153,
    "start_time": "2023-06-18T15:56:11.824Z"
   },
   {
    "duration": 42,
    "start_time": "2023-06-18T15:56:12.980Z"
   },
   {
    "duration": 19,
    "start_time": "2023-06-18T15:56:13.024Z"
   },
   {
    "duration": 46,
    "start_time": "2023-06-18T15:56:13.046Z"
   },
   {
    "duration": 13,
    "start_time": "2023-06-18T15:56:13.094Z"
   },
   {
    "duration": 10,
    "start_time": "2023-06-18T15:56:13.108Z"
   },
   {
    "duration": 4,
    "start_time": "2023-06-18T15:56:13.120Z"
   },
   {
    "duration": 13,
    "start_time": "2023-06-18T15:56:13.126Z"
   },
   {
    "duration": 33,
    "start_time": "2023-06-18T15:56:13.141Z"
   },
   {
    "duration": 5,
    "start_time": "2023-06-18T15:56:13.178Z"
   },
   {
    "duration": 5,
    "start_time": "2023-06-18T15:56:13.185Z"
   },
   {
    "duration": 28,
    "start_time": "2023-06-18T15:56:13.191Z"
   },
   {
    "duration": 9,
    "start_time": "2023-06-18T15:56:13.221Z"
   },
   {
    "duration": 13,
    "start_time": "2023-06-18T15:56:13.231Z"
   },
   {
    "duration": 14,
    "start_time": "2023-06-18T15:56:13.246Z"
   },
   {
    "duration": 18,
    "start_time": "2023-06-18T15:56:13.262Z"
   },
   {
    "duration": 35,
    "start_time": "2023-06-18T15:56:13.283Z"
   },
   {
    "duration": 457,
    "start_time": "2023-06-18T15:56:13.319Z"
   },
   {
    "duration": 10,
    "start_time": "2023-06-18T15:56:13.779Z"
   },
   {
    "duration": 59544,
    "start_time": "2023-06-18T15:56:13.792Z"
   },
   {
    "duration": 67,
    "start_time": "2023-06-18T15:57:13.338Z"
   },
   {
    "duration": 70,
    "start_time": "2023-06-18T15:57:13.407Z"
   },
   {
    "duration": 85,
    "start_time": "2023-06-18T15:57:13.479Z"
   },
   {
    "duration": 675,
    "start_time": "2023-06-18T15:57:13.565Z"
   },
   {
    "duration": 8,
    "start_time": "2023-06-18T15:57:14.242Z"
   },
   {
    "duration": 58734,
    "start_time": "2023-06-18T15:57:14.260Z"
   },
   {
    "duration": 62,
    "start_time": "2023-06-18T15:58:12.996Z"
   },
   {
    "duration": 97,
    "start_time": "2023-06-18T15:58:13.063Z"
   },
   {
    "duration": 17,
    "start_time": "2023-06-18T15:58:13.161Z"
   },
   {
    "duration": 103,
    "start_time": "2023-06-18T15:58:13.183Z"
   },
   {
    "duration": 81,
    "start_time": "2023-06-18T15:58:13.288Z"
   },
   {
    "duration": 1073,
    "start_time": "2023-06-18T15:58:13.371Z"
   },
   {
    "duration": 25,
    "start_time": "2023-06-18T15:58:14.445Z"
   },
   {
    "duration": 46014,
    "start_time": "2023-06-18T15:58:14.475Z"
   },
   {
    "duration": 34,
    "start_time": "2023-06-18T15:59:00.491Z"
   },
   {
    "duration": 92,
    "start_time": "2023-06-18T15:59:00.527Z"
   },
   {
    "duration": 14,
    "start_time": "2023-06-18T15:59:00.663Z"
   },
   {
    "duration": 184,
    "start_time": "2023-06-18T15:59:00.679Z"
   },
   {
    "duration": 284,
    "start_time": "2023-06-18T15:59:00.867Z"
   },
   {
    "duration": 14,
    "start_time": "2023-06-18T15:59:01.153Z"
   },
   {
    "duration": 2100,
    "start_time": "2023-06-18T15:59:01.177Z"
   },
   {
    "duration": 13,
    "start_time": "2023-06-18T15:59:03.279Z"
   },
   {
    "duration": 64,
    "start_time": "2023-06-18T15:59:03.293Z"
   },
   {
    "duration": 15,
    "start_time": "2023-06-18T15:59:03.367Z"
   },
   {
    "duration": 1184,
    "start_time": "2023-06-18T16:12:55.339Z"
   },
   {
    "duration": 50,
    "start_time": "2023-06-18T16:12:56.525Z"
   },
   {
    "duration": 37,
    "start_time": "2023-06-18T16:12:56.586Z"
   },
   {
    "duration": 63,
    "start_time": "2023-06-18T16:12:56.624Z"
   },
   {
    "duration": 18,
    "start_time": "2023-06-18T16:12:56.689Z"
   },
   {
    "duration": 6,
    "start_time": "2023-06-18T16:12:56.709Z"
   },
   {
    "duration": 15,
    "start_time": "2023-06-18T16:12:56.717Z"
   },
   {
    "duration": 20,
    "start_time": "2023-06-18T16:12:56.734Z"
   },
   {
    "duration": 22,
    "start_time": "2023-06-18T16:12:56.759Z"
   },
   {
    "duration": 10,
    "start_time": "2023-06-18T16:12:56.783Z"
   },
   {
    "duration": 4,
    "start_time": "2023-06-18T16:12:56.795Z"
   },
   {
    "duration": 26,
    "start_time": "2023-06-18T16:12:56.801Z"
   },
   {
    "duration": 12,
    "start_time": "2023-06-18T16:12:56.829Z"
   },
   {
    "duration": 18,
    "start_time": "2023-06-18T16:12:56.843Z"
   },
   {
    "duration": 16,
    "start_time": "2023-06-18T16:12:56.867Z"
   },
   {
    "duration": 11,
    "start_time": "2023-06-18T16:12:56.885Z"
   },
   {
    "duration": 29,
    "start_time": "2023-06-18T16:12:56.897Z"
   },
   {
    "duration": 467,
    "start_time": "2023-06-18T16:12:56.928Z"
   },
   {
    "duration": 10,
    "start_time": "2023-06-18T16:12:57.399Z"
   },
   {
    "duration": 58817,
    "start_time": "2023-06-18T16:12:57.411Z"
   },
   {
    "duration": 58,
    "start_time": "2023-06-18T16:13:56.229Z"
   },
   {
    "duration": 77,
    "start_time": "2023-06-18T16:13:56.289Z"
   },
   {
    "duration": 103,
    "start_time": "2023-06-18T16:13:56.367Z"
   },
   {
    "duration": 554,
    "start_time": "2023-06-18T16:13:56.471Z"
   },
   {
    "duration": 7,
    "start_time": "2023-06-18T16:13:57.027Z"
   },
   {
    "duration": 58958,
    "start_time": "2023-06-18T16:13:57.035Z"
   },
   {
    "duration": 78,
    "start_time": "2023-06-18T16:14:55.996Z"
   },
   {
    "duration": 25,
    "start_time": "2023-06-18T16:14:56.076Z"
   },
   {
    "duration": 15,
    "start_time": "2023-06-18T16:14:56.158Z"
   },
   {
    "duration": 91,
    "start_time": "2023-06-18T16:14:56.176Z"
   },
   {
    "duration": 94,
    "start_time": "2023-06-18T16:14:56.270Z"
   },
   {
    "duration": 1065,
    "start_time": "2023-06-18T16:14:56.366Z"
   },
   {
    "duration": 7,
    "start_time": "2023-06-18T16:14:57.433Z"
   },
   {
    "duration": 43916,
    "start_time": "2023-06-18T16:14:57.442Z"
   },
   {
    "duration": 37,
    "start_time": "2023-06-18T16:15:41.360Z"
   },
   {
    "duration": 93,
    "start_time": "2023-06-18T16:15:41.399Z"
   },
   {
    "duration": 82,
    "start_time": "2023-06-18T16:15:41.494Z"
   },
   {
    "duration": 99,
    "start_time": "2023-06-18T16:15:41.580Z"
   },
   {
    "duration": 338,
    "start_time": "2023-06-18T16:15:41.681Z"
   },
   {
    "duration": 6,
    "start_time": "2023-06-18T16:15:42.021Z"
   },
   {
    "duration": 1909,
    "start_time": "2023-06-18T16:15:42.028Z"
   },
   {
    "duration": 33,
    "start_time": "2023-06-18T16:15:43.939Z"
   },
   {
    "duration": 34,
    "start_time": "2023-06-18T16:15:43.977Z"
   },
   {
    "duration": 99,
    "start_time": "2023-06-18T16:15:44.060Z"
   },
   {
    "duration": 6,
    "start_time": "2023-06-18T16:15:44.162Z"
   },
   {
    "duration": 181,
    "start_time": "2023-06-18T16:17:29.221Z"
   },
   {
    "duration": 21,
    "start_time": "2023-06-18T16:18:59.199Z"
   },
   {
    "duration": 22,
    "start_time": "2023-06-18T16:20:46.583Z"
   },
   {
    "duration": 151,
    "start_time": "2023-06-18T16:41:29.760Z"
   },
   {
    "duration": 1722,
    "start_time": "2023-06-18T16:42:23.995Z"
   },
   {
    "duration": 52,
    "start_time": "2023-06-18T16:42:25.719Z"
   },
   {
    "duration": 26,
    "start_time": "2023-06-18T16:42:25.773Z"
   },
   {
    "duration": 47,
    "start_time": "2023-06-18T16:42:25.801Z"
   },
   {
    "duration": 28,
    "start_time": "2023-06-18T16:42:25.851Z"
   },
   {
    "duration": 7,
    "start_time": "2023-06-18T16:42:25.881Z"
   },
   {
    "duration": 7,
    "start_time": "2023-06-18T16:42:25.890Z"
   },
   {
    "duration": 7,
    "start_time": "2023-06-18T16:42:25.900Z"
   },
   {
    "duration": 13,
    "start_time": "2023-06-18T16:42:25.909Z"
   },
   {
    "duration": 4,
    "start_time": "2023-06-18T16:42:25.923Z"
   },
   {
    "duration": 38,
    "start_time": "2023-06-18T16:42:25.929Z"
   },
   {
    "duration": 14,
    "start_time": "2023-06-18T16:42:25.968Z"
   },
   {
    "duration": 15,
    "start_time": "2023-06-18T16:42:25.984Z"
   },
   {
    "duration": 12,
    "start_time": "2023-06-18T16:42:26.003Z"
   },
   {
    "duration": 7,
    "start_time": "2023-06-18T16:42:26.016Z"
   },
   {
    "duration": 10,
    "start_time": "2023-06-18T16:42:26.024Z"
   },
   {
    "duration": 63,
    "start_time": "2023-06-18T16:42:26.036Z"
   },
   {
    "duration": 473,
    "start_time": "2023-06-18T16:42:26.101Z"
   },
   {
    "duration": 18,
    "start_time": "2023-06-18T16:42:26.583Z"
   },
   {
    "duration": 62243,
    "start_time": "2023-06-18T16:42:26.603Z"
   },
   {
    "duration": 63,
    "start_time": "2023-06-18T16:43:28.847Z"
   },
   {
    "duration": 66,
    "start_time": "2023-06-18T16:43:28.912Z"
   },
   {
    "duration": 80,
    "start_time": "2023-06-18T16:43:28.982Z"
   },
   {
    "duration": 574,
    "start_time": "2023-06-18T16:43:29.070Z"
   },
   {
    "duration": 24,
    "start_time": "2023-06-18T16:43:29.645Z"
   },
   {
    "duration": 61156,
    "start_time": "2023-06-18T16:43:29.672Z"
   },
   {
    "duration": 64,
    "start_time": "2023-06-18T16:44:30.830Z"
   },
   {
    "duration": 73,
    "start_time": "2023-06-18T16:44:30.897Z"
   },
   {
    "duration": 13,
    "start_time": "2023-06-18T16:44:30.972Z"
   },
   {
    "duration": 193,
    "start_time": "2023-06-18T16:44:30.988Z"
   },
   {
    "duration": 56,
    "start_time": "2023-06-18T16:44:31.186Z"
   },
   {
    "duration": 1178,
    "start_time": "2023-06-18T16:44:31.244Z"
   },
   {
    "duration": 9,
    "start_time": "2023-06-18T16:44:32.425Z"
   },
   {
    "duration": 47269,
    "start_time": "2023-06-18T16:44:32.435Z"
   },
   {
    "duration": 34,
    "start_time": "2023-06-18T16:45:19.705Z"
   },
   {
    "duration": 142,
    "start_time": "2023-06-18T16:45:19.741Z"
   },
   {
    "duration": 115,
    "start_time": "2023-06-18T16:45:19.885Z"
   },
   {
    "duration": 86,
    "start_time": "2023-06-18T16:45:20.004Z"
   },
   {
    "duration": 290,
    "start_time": "2023-06-18T16:45:20.158Z"
   },
   {
    "duration": 22,
    "start_time": "2023-06-18T16:45:20.450Z"
   },
   {
    "duration": 2062,
    "start_time": "2023-06-18T16:45:20.481Z"
   },
   {
    "duration": 26,
    "start_time": "2023-06-18T16:45:22.544Z"
   },
   {
    "duration": 26,
    "start_time": "2023-06-18T16:45:22.572Z"
   },
   {
    "duration": 87,
    "start_time": "2023-06-18T16:45:22.600Z"
   },
   {
    "duration": 336,
    "start_time": "2023-06-18T16:45:22.689Z"
   },
   {
    "duration": 20,
    "start_time": "2023-06-18T16:45:23.027Z"
   },
   {
    "duration": 237,
    "start_time": "2023-06-18T16:45:23.059Z"
   },
   {
    "duration": 1181,
    "start_time": "2023-06-19T04:23:35.398Z"
   },
   {
    "duration": 41,
    "start_time": "2023-06-19T04:23:36.581Z"
   },
   {
    "duration": 19,
    "start_time": "2023-06-19T04:23:36.623Z"
   },
   {
    "duration": 45,
    "start_time": "2023-06-19T04:23:36.645Z"
   },
   {
    "duration": 11,
    "start_time": "2023-06-19T04:23:36.692Z"
   },
   {
    "duration": 4,
    "start_time": "2023-06-19T04:23:36.705Z"
   },
   {
    "duration": 6,
    "start_time": "2023-06-19T04:23:36.731Z"
   },
   {
    "duration": 17,
    "start_time": "2023-06-19T04:23:36.739Z"
   },
   {
    "duration": 13,
    "start_time": "2023-06-19T04:23:36.758Z"
   },
   {
    "duration": 6,
    "start_time": "2023-06-19T04:23:36.773Z"
   },
   {
    "duration": 5,
    "start_time": "2023-06-19T04:23:36.781Z"
   },
   {
    "duration": 10,
    "start_time": "2023-06-19T04:23:36.788Z"
   },
   {
    "duration": 8,
    "start_time": "2023-06-19T04:23:36.799Z"
   },
   {
    "duration": 40,
    "start_time": "2023-06-19T04:23:36.808Z"
   },
   {
    "duration": 5,
    "start_time": "2023-06-19T04:23:36.850Z"
   },
   {
    "duration": 9,
    "start_time": "2023-06-19T04:23:36.856Z"
   },
   {
    "duration": 23,
    "start_time": "2023-06-19T04:23:36.866Z"
   },
   {
    "duration": 427,
    "start_time": "2023-06-19T04:23:36.891Z"
   },
   {
    "duration": 13,
    "start_time": "2023-06-19T04:23:37.319Z"
   },
   {
    "duration": 55598,
    "start_time": "2023-06-19T04:23:37.335Z"
   },
   {
    "duration": 55,
    "start_time": "2023-06-19T04:24:32.936Z"
   },
   {
    "duration": 255,
    "start_time": "2023-06-19T04:24:32.992Z"
   },
   {
    "duration": 91,
    "start_time": "2023-06-19T04:24:33.249Z"
   },
   {
    "duration": 617,
    "start_time": "2023-06-19T04:24:33.342Z"
   },
   {
    "duration": 6,
    "start_time": "2023-06-19T04:24:33.961Z"
   },
   {
    "duration": 55267,
    "start_time": "2023-06-19T04:24:33.968Z"
   },
   {
    "duration": 60,
    "start_time": "2023-06-19T04:25:29.237Z"
   },
   {
    "duration": 54,
    "start_time": "2023-06-19T04:25:29.300Z"
   },
   {
    "duration": 92,
    "start_time": "2023-06-19T04:25:29.357Z"
   },
   {
    "duration": 191,
    "start_time": "2023-06-19T04:25:29.456Z"
   },
   {
    "duration": 15,
    "start_time": "2023-06-19T04:25:29.650Z"
   },
   {
    "duration": 1055,
    "start_time": "2023-06-19T04:25:29.667Z"
   },
   {
    "duration": 12,
    "start_time": "2023-06-19T04:25:30.724Z"
   },
   {
    "duration": 41821,
    "start_time": "2023-06-19T04:25:30.738Z"
   },
   {
    "duration": 32,
    "start_time": "2023-06-19T04:26:12.560Z"
   },
   {
    "duration": 84,
    "start_time": "2023-06-19T04:26:12.593Z"
   },
   {
    "duration": 101,
    "start_time": "2023-06-19T04:26:12.733Z"
   },
   {
    "duration": 100,
    "start_time": "2023-06-19T04:26:12.837Z"
   },
   {
    "duration": 257,
    "start_time": "2023-06-19T04:26:12.938Z"
   },
   {
    "duration": 7,
    "start_time": "2023-06-19T04:26:13.197Z"
   },
   {
    "duration": 1744,
    "start_time": "2023-06-19T04:26:13.205Z"
   },
   {
    "duration": 12,
    "start_time": "2023-06-19T04:26:14.950Z"
   },
   {
    "duration": 170,
    "start_time": "2023-06-19T04:26:14.963Z"
   },
   {
    "duration": 108,
    "start_time": "2023-06-19T04:26:15.135Z"
   },
   {
    "duration": 352,
    "start_time": "2023-06-19T04:26:15.246Z"
   },
   {
    "duration": 20,
    "start_time": "2023-06-19T04:26:15.600Z"
   },
   {
    "duration": 194,
    "start_time": "2023-06-19T04:26:15.621Z"
   },
   {
    "duration": 1702,
    "start_time": "2023-06-19T17:00:00.452Z"
   },
   {
    "duration": 66,
    "start_time": "2023-06-19T17:00:02.156Z"
   },
   {
    "duration": 183,
    "start_time": "2023-06-19T17:00:02.223Z"
   },
   {
    "duration": 86,
    "start_time": "2023-06-19T17:00:02.408Z"
   },
   {
    "duration": 15,
    "start_time": "2023-06-19T17:00:02.496Z"
   },
   {
    "duration": 73,
    "start_time": "2023-06-19T17:00:02.513Z"
   },
   {
    "duration": 54,
    "start_time": "2023-06-19T17:00:02.587Z"
   },
   {
    "duration": 82,
    "start_time": "2023-06-19T17:00:02.644Z"
   },
   {
    "duration": 89,
    "start_time": "2023-06-19T17:00:02.728Z"
   },
   {
    "duration": 21,
    "start_time": "2023-06-19T17:00:02.819Z"
   },
   {
    "duration": 69,
    "start_time": "2023-06-19T17:00:02.841Z"
   },
   {
    "duration": 44,
    "start_time": "2023-06-19T17:00:02.912Z"
   },
   {
    "duration": 35,
    "start_time": "2023-06-19T17:00:02.961Z"
   },
   {
    "duration": 27,
    "start_time": "2023-06-19T17:00:02.997Z"
   },
   {
    "duration": 19,
    "start_time": "2023-06-19T17:00:03.026Z"
   },
   {
    "duration": 50,
    "start_time": "2023-06-19T17:00:03.046Z"
   },
   {
    "duration": 73,
    "start_time": "2023-06-19T17:00:03.098Z"
   },
   {
    "duration": 497,
    "start_time": "2023-06-19T17:00:03.172Z"
   },
   {
    "duration": 15,
    "start_time": "2023-06-19T17:00:03.671Z"
   },
   {
    "duration": 60958,
    "start_time": "2023-06-19T17:00:03.691Z"
   },
   {
    "duration": 56,
    "start_time": "2023-06-19T17:01:04.660Z"
   },
   {
    "duration": 54,
    "start_time": "2023-06-19T17:01:04.718Z"
   },
   {
    "duration": 86,
    "start_time": "2023-06-19T17:01:04.774Z"
   },
   {
    "duration": 547,
    "start_time": "2023-06-19T17:01:04.862Z"
   },
   {
    "duration": 10,
    "start_time": "2023-06-19T17:01:05.410Z"
   },
   {
    "duration": 61811,
    "start_time": "2023-06-19T17:01:05.422Z"
   },
   {
    "duration": 72,
    "start_time": "2023-06-19T17:02:07.235Z"
   },
   {
    "duration": 148,
    "start_time": "2023-06-19T17:02:07.310Z"
   },
   {
    "duration": 27,
    "start_time": "2023-06-19T17:02:07.461Z"
   },
   {
    "duration": 77,
    "start_time": "2023-06-19T17:02:07.491Z"
   },
   {
    "duration": 86,
    "start_time": "2023-06-19T17:02:07.575Z"
   },
   {
    "duration": 1051,
    "start_time": "2023-06-19T17:02:07.666Z"
   },
   {
    "duration": 8,
    "start_time": "2023-06-19T17:02:08.719Z"
   },
   {
    "duration": 47575,
    "start_time": "2023-06-19T17:02:08.729Z"
   },
   {
    "duration": 34,
    "start_time": "2023-06-19T17:02:56.306Z"
   },
   {
    "duration": 118,
    "start_time": "2023-06-19T17:02:56.341Z"
   },
   {
    "duration": 17,
    "start_time": "2023-06-19T17:02:56.461Z"
   },
   {
    "duration": 22,
    "start_time": "2023-06-19T17:02:56.570Z"
   },
   {
    "duration": 304,
    "start_time": "2023-06-19T17:02:56.598Z"
   },
   {
    "duration": 8,
    "start_time": "2023-06-19T17:02:56.904Z"
   },
   {
    "duration": 2033,
    "start_time": "2023-06-19T17:02:56.914Z"
   },
   {
    "duration": 25,
    "start_time": "2023-06-19T17:02:58.949Z"
   },
   {
    "duration": 88,
    "start_time": "2023-06-19T17:02:58.978Z"
   },
   {
    "duration": 112,
    "start_time": "2023-06-19T17:02:59.069Z"
   },
   {
    "duration": 282,
    "start_time": "2023-06-19T17:02:59.187Z"
   },
   {
    "duration": 32,
    "start_time": "2023-06-19T17:02:59.472Z"
   },
   {
    "duration": 231,
    "start_time": "2023-06-19T17:02:59.506Z"
   },
   {
    "duration": 9345,
    "start_time": "2023-06-19T17:41:23.582Z"
   },
   {
    "duration": 49,
    "start_time": "2023-06-19T17:41:32.929Z"
   },
   {
    "duration": 19,
    "start_time": "2023-06-19T17:41:32.980Z"
   },
   {
    "duration": 55,
    "start_time": "2023-06-19T17:41:33.001Z"
   },
   {
    "duration": 21,
    "start_time": "2023-06-19T17:41:33.058Z"
   },
   {
    "duration": 5,
    "start_time": "2023-06-19T17:41:33.082Z"
   },
   {
    "duration": 8,
    "start_time": "2023-06-19T17:41:33.088Z"
   },
   {
    "duration": 8,
    "start_time": "2023-06-19T17:41:33.098Z"
   },
   {
    "duration": 14,
    "start_time": "2023-06-19T17:41:33.107Z"
   },
   {
    "duration": 5,
    "start_time": "2023-06-19T17:41:33.124Z"
   },
   {
    "duration": 10,
    "start_time": "2023-06-19T17:41:33.161Z"
   },
   {
    "duration": 16,
    "start_time": "2023-06-19T17:41:33.172Z"
   },
   {
    "duration": 15,
    "start_time": "2023-06-19T17:41:33.190Z"
   },
   {
    "duration": 11,
    "start_time": "2023-06-19T17:41:33.207Z"
   },
   {
    "duration": 7,
    "start_time": "2023-06-19T17:41:33.219Z"
   },
   {
    "duration": 45,
    "start_time": "2023-06-19T17:41:33.228Z"
   },
   {
    "duration": 28,
    "start_time": "2023-06-19T17:41:33.277Z"
   },
   {
    "duration": 616,
    "start_time": "2023-06-19T17:41:33.307Z"
   },
   {
    "duration": 13,
    "start_time": "2023-06-19T17:41:33.926Z"
   },
   {
    "duration": 67944,
    "start_time": "2023-06-19T17:41:33.941Z"
   },
   {
    "duration": 59,
    "start_time": "2023-06-19T17:42:41.887Z"
   },
   {
    "duration": 111,
    "start_time": "2023-06-19T17:42:41.948Z"
   },
   {
    "duration": 95,
    "start_time": "2023-06-19T17:42:42.063Z"
   },
   {
    "duration": 596,
    "start_time": "2023-06-19T17:42:42.173Z"
   },
   {
    "duration": 13,
    "start_time": "2023-06-19T17:42:42.771Z"
   },
   {
    "duration": 69746,
    "start_time": "2023-06-19T17:42:42.792Z"
   },
   {
    "duration": 71,
    "start_time": "2023-06-19T17:43:52.540Z"
   },
   {
    "duration": 44,
    "start_time": "2023-06-19T17:43:52.615Z"
   },
   {
    "duration": 14,
    "start_time": "2023-06-19T17:43:52.661Z"
   },
   {
    "duration": 84,
    "start_time": "2023-06-19T17:43:52.676Z"
   },
   {
    "duration": 2,
    "start_time": "2023-06-19T17:43:52.762Z"
   },
   {
    "duration": 245,
    "start_time": "2023-06-19T17:43:52.766Z"
   },
   {
    "duration": 0,
    "start_time": "2023-06-19T17:43:53.013Z"
   },
   {
    "duration": 0,
    "start_time": "2023-06-19T17:43:53.014Z"
   },
   {
    "duration": 0,
    "start_time": "2023-06-19T17:43:53.015Z"
   },
   {
    "duration": 0,
    "start_time": "2023-06-19T17:43:53.016Z"
   },
   {
    "duration": 0,
    "start_time": "2023-06-19T17:43:53.017Z"
   },
   {
    "duration": 0,
    "start_time": "2023-06-19T17:43:53.018Z"
   },
   {
    "duration": 0,
    "start_time": "2023-06-19T17:43:53.019Z"
   },
   {
    "duration": 0,
    "start_time": "2023-06-19T17:43:53.020Z"
   },
   {
    "duration": 0,
    "start_time": "2023-06-19T17:43:53.021Z"
   },
   {
    "duration": 0,
    "start_time": "2023-06-19T17:43:53.022Z"
   },
   {
    "duration": 0,
    "start_time": "2023-06-19T17:43:53.024Z"
   },
   {
    "duration": 0,
    "start_time": "2023-06-19T17:43:53.025Z"
   },
   {
    "duration": 0,
    "start_time": "2023-06-19T17:43:53.026Z"
   },
   {
    "duration": 0,
    "start_time": "2023-06-19T17:43:53.028Z"
   },
   {
    "duration": 0,
    "start_time": "2023-06-19T17:43:53.029Z"
   },
   {
    "duration": 0,
    "start_time": "2023-06-19T17:43:53.057Z"
   },
   {
    "duration": 10,
    "start_time": "2023-06-19T17:44:22.782Z"
   },
   {
    "duration": 70,
    "start_time": "2023-06-19T17:45:41.829Z"
   },
   {
    "duration": 4042,
    "start_time": "2023-06-19T17:45:48.751Z"
   },
   {
    "duration": 44,
    "start_time": "2023-06-19T17:45:52.795Z"
   },
   {
    "duration": 23,
    "start_time": "2023-06-19T17:45:52.842Z"
   },
   {
    "duration": 65,
    "start_time": "2023-06-19T17:45:52.868Z"
   },
   {
    "duration": 14,
    "start_time": "2023-06-19T17:45:52.935Z"
   },
   {
    "duration": 33,
    "start_time": "2023-06-19T17:45:52.959Z"
   },
   {
    "duration": 7,
    "start_time": "2023-06-19T17:45:52.995Z"
   },
   {
    "duration": 28,
    "start_time": "2023-06-19T17:45:53.004Z"
   },
   {
    "duration": 18,
    "start_time": "2023-06-19T17:45:53.034Z"
   },
   {
    "duration": 10,
    "start_time": "2023-06-19T17:45:53.054Z"
   },
   {
    "duration": 18,
    "start_time": "2023-06-19T17:45:53.065Z"
   },
   {
    "duration": 38,
    "start_time": "2023-06-19T17:45:53.086Z"
   },
   {
    "duration": 11,
    "start_time": "2023-06-19T17:45:53.126Z"
   },
   {
    "duration": 40,
    "start_time": "2023-06-19T17:45:53.140Z"
   },
   {
    "duration": 24,
    "start_time": "2023-06-19T17:45:53.182Z"
   },
   {
    "duration": 38,
    "start_time": "2023-06-19T17:45:53.209Z"
   },
   {
    "duration": 41,
    "start_time": "2023-06-19T17:45:53.249Z"
   },
   {
    "duration": 556,
    "start_time": "2023-06-19T17:45:53.294Z"
   },
   {
    "duration": 20,
    "start_time": "2023-06-19T17:45:53.857Z"
   },
   {
    "duration": 68229,
    "start_time": "2023-06-19T17:45:53.879Z"
   },
   {
    "duration": 78,
    "start_time": "2023-06-19T17:47:02.109Z"
   },
   {
    "duration": 69,
    "start_time": "2023-06-19T17:47:02.188Z"
   },
   {
    "duration": 24,
    "start_time": "2023-06-19T17:47:02.264Z"
   },
   {
    "duration": 620,
    "start_time": "2023-06-19T17:47:02.359Z"
   },
   {
    "duration": 10,
    "start_time": "2023-06-19T17:47:02.981Z"
   },
   {
    "duration": 66169,
    "start_time": "2023-06-19T17:47:02.993Z"
   },
   {
    "duration": 56,
    "start_time": "2023-06-19T17:48:09.164Z"
   },
   {
    "duration": 134,
    "start_time": "2023-06-19T17:48:09.222Z"
   },
   {
    "duration": 104,
    "start_time": "2023-06-19T17:48:09.359Z"
   },
   {
    "duration": 100,
    "start_time": "2023-06-19T17:48:09.466Z"
   },
   {
    "duration": 11,
    "start_time": "2023-06-19T17:48:09.568Z"
   },
   {
    "duration": 136,
    "start_time": "2023-06-19T17:48:09.582Z"
   },
   {
    "duration": 0,
    "start_time": "2023-06-19T17:48:09.720Z"
   },
   {
    "duration": 0,
    "start_time": "2023-06-19T17:48:09.722Z"
   },
   {
    "duration": 0,
    "start_time": "2023-06-19T17:48:09.724Z"
   },
   {
    "duration": 0,
    "start_time": "2023-06-19T17:48:09.726Z"
   },
   {
    "duration": 0,
    "start_time": "2023-06-19T17:48:09.727Z"
   },
   {
    "duration": 0,
    "start_time": "2023-06-19T17:48:09.728Z"
   },
   {
    "duration": 0,
    "start_time": "2023-06-19T17:48:09.729Z"
   },
   {
    "duration": 0,
    "start_time": "2023-06-19T17:48:09.730Z"
   },
   {
    "duration": 0,
    "start_time": "2023-06-19T17:48:09.731Z"
   },
   {
    "duration": 0,
    "start_time": "2023-06-19T17:48:09.732Z"
   },
   {
    "duration": 0,
    "start_time": "2023-06-19T17:48:09.733Z"
   },
   {
    "duration": 0,
    "start_time": "2023-06-19T17:48:09.757Z"
   },
   {
    "duration": 0,
    "start_time": "2023-06-19T17:48:09.759Z"
   },
   {
    "duration": 0,
    "start_time": "2023-06-19T17:48:09.760Z"
   },
   {
    "duration": 0,
    "start_time": "2023-06-19T17:48:09.761Z"
   },
   {
    "duration": 0,
    "start_time": "2023-06-19T17:48:09.762Z"
   },
   {
    "duration": 10,
    "start_time": "2023-06-19T17:52:13.142Z"
   },
   {
    "duration": 12,
    "start_time": "2023-06-19T17:53:23.175Z"
   },
   {
    "duration": 11,
    "start_time": "2023-06-19T17:53:31.502Z"
   },
   {
    "duration": 48,
    "start_time": "2023-06-19T17:54:31.614Z"
   },
   {
    "duration": 21,
    "start_time": "2023-06-19T17:55:17.343Z"
   },
   {
    "duration": 764,
    "start_time": "2023-06-19T17:56:27.407Z"
   },
   {
    "duration": 10,
    "start_time": "2023-06-19T17:56:29.453Z"
   },
   {
    "duration": 33511,
    "start_time": "2023-06-19T17:56:33.878Z"
   },
   {
    "duration": 46,
    "start_time": "2023-06-19T17:57:07.391Z"
   },
   {
    "duration": 45,
    "start_time": "2023-06-19T17:57:07.439Z"
   },
   {
    "duration": 77,
    "start_time": "2023-06-19T17:57:07.486Z"
   },
   {
    "duration": 101,
    "start_time": "2023-06-19T17:57:07.565Z"
   },
   {
    "duration": 3402,
    "start_time": "2023-06-19T17:59:25.502Z"
   },
   {
    "duration": 41,
    "start_time": "2023-06-19T17:59:28.906Z"
   },
   {
    "duration": 17,
    "start_time": "2023-06-19T17:59:28.949Z"
   },
   {
    "duration": 42,
    "start_time": "2023-06-19T17:59:28.968Z"
   },
   {
    "duration": 13,
    "start_time": "2023-06-19T17:59:29.011Z"
   },
   {
    "duration": 5,
    "start_time": "2023-06-19T17:59:29.026Z"
   },
   {
    "duration": 33,
    "start_time": "2023-06-19T17:59:29.032Z"
   },
   {
    "duration": 5,
    "start_time": "2023-06-19T17:59:29.066Z"
   },
   {
    "duration": 12,
    "start_time": "2023-06-19T17:59:29.073Z"
   },
   {
    "duration": 4,
    "start_time": "2023-06-19T17:59:29.087Z"
   },
   {
    "duration": 7,
    "start_time": "2023-06-19T17:59:29.093Z"
   },
   {
    "duration": 9,
    "start_time": "2023-06-19T17:59:29.102Z"
   },
   {
    "duration": 10,
    "start_time": "2023-06-19T17:59:29.113Z"
   },
   {
    "duration": 10,
    "start_time": "2023-06-19T17:59:29.157Z"
   },
   {
    "duration": 6,
    "start_time": "2023-06-19T17:59:29.169Z"
   },
   {
    "duration": 12,
    "start_time": "2023-06-19T17:59:29.177Z"
   },
   {
    "duration": 26,
    "start_time": "2023-06-19T17:59:29.191Z"
   },
   {
    "duration": 448,
    "start_time": "2023-06-19T17:59:29.219Z"
   },
   {
    "duration": 9,
    "start_time": "2023-06-19T17:59:29.669Z"
   },
   {
    "duration": 64461,
    "start_time": "2023-06-19T17:59:29.680Z"
   },
   {
    "duration": 75,
    "start_time": "2023-06-19T18:00:34.143Z"
   },
   {
    "duration": 237,
    "start_time": "2023-06-19T18:00:34.221Z"
   },
   {
    "duration": 100,
    "start_time": "2023-06-19T18:00:34.460Z"
   },
   {
    "duration": 579,
    "start_time": "2023-06-19T18:00:34.566Z"
   },
   {
    "duration": 18,
    "start_time": "2023-06-19T18:00:35.147Z"
   },
   {
    "duration": 63128,
    "start_time": "2023-06-19T18:00:35.167Z"
   },
   {
    "duration": 63,
    "start_time": "2023-06-19T18:01:38.296Z"
   },
   {
    "duration": 21,
    "start_time": "2023-06-19T18:01:38.362Z"
   },
   {
    "duration": 80,
    "start_time": "2023-06-19T18:01:38.385Z"
   },
   {
    "duration": 96,
    "start_time": "2023-06-19T18:01:38.469Z"
   },
   {
    "duration": 3,
    "start_time": "2023-06-19T18:01:38.567Z"
   },
   {
    "duration": 35,
    "start_time": "2023-06-19T18:01:38.657Z"
   },
   {
    "duration": 765,
    "start_time": "2023-06-19T18:01:38.693Z"
   },
   {
    "duration": 8,
    "start_time": "2023-06-19T18:01:39.459Z"
   },
   {
    "duration": 33560,
    "start_time": "2023-06-19T18:01:39.469Z"
   },
   {
    "duration": 54,
    "start_time": "2023-06-19T18:02:13.031Z"
   },
   {
    "duration": 169,
    "start_time": "2023-06-19T18:02:13.087Z"
   },
   {
    "duration": 17,
    "start_time": "2023-06-19T18:02:13.258Z"
   },
   {
    "duration": 85,
    "start_time": "2023-06-19T18:02:13.276Z"
   },
   {
    "duration": 439,
    "start_time": "2023-06-19T18:02:13.363Z"
   },
   {
    "duration": 8,
    "start_time": "2023-06-19T18:02:13.804Z"
   },
   {
    "duration": 2340,
    "start_time": "2023-06-19T18:02:13.814Z"
   },
   {
    "duration": 11,
    "start_time": "2023-06-19T18:02:16.157Z"
   },
   {
    "duration": 87,
    "start_time": "2023-06-19T18:02:16.170Z"
   },
   {
    "duration": 99,
    "start_time": "2023-06-19T18:02:16.259Z"
   },
   {
    "duration": 307,
    "start_time": "2023-06-19T18:02:16.360Z"
   },
   {
    "duration": 27,
    "start_time": "2023-06-19T18:02:16.669Z"
   },
   {
    "duration": 225,
    "start_time": "2023-06-19T18:02:16.698Z"
   },
   {
    "duration": 3720,
    "start_time": "2023-06-19T18:05:52.712Z"
   },
   {
    "duration": 41,
    "start_time": "2023-06-19T18:05:56.434Z"
   },
   {
    "duration": 17,
    "start_time": "2023-06-19T18:05:56.477Z"
   },
   {
    "duration": 42,
    "start_time": "2023-06-19T18:05:56.496Z"
   },
   {
    "duration": 23,
    "start_time": "2023-06-19T18:05:56.540Z"
   },
   {
    "duration": 5,
    "start_time": "2023-06-19T18:05:56.565Z"
   },
   {
    "duration": 13,
    "start_time": "2023-06-19T18:05:56.572Z"
   },
   {
    "duration": 12,
    "start_time": "2023-06-19T18:05:56.587Z"
   },
   {
    "duration": 25,
    "start_time": "2023-06-19T18:05:56.600Z"
   },
   {
    "duration": 17,
    "start_time": "2023-06-19T18:05:56.628Z"
   },
   {
    "duration": 19,
    "start_time": "2023-06-19T18:05:56.647Z"
   },
   {
    "duration": 14,
    "start_time": "2023-06-19T18:05:56.668Z"
   },
   {
    "duration": 11,
    "start_time": "2023-06-19T18:05:56.683Z"
   },
   {
    "duration": 30,
    "start_time": "2023-06-19T18:05:56.696Z"
   },
   {
    "duration": 11,
    "start_time": "2023-06-19T18:05:56.728Z"
   },
   {
    "duration": 11,
    "start_time": "2023-06-19T18:05:56.741Z"
   },
   {
    "duration": 30,
    "start_time": "2023-06-19T18:05:56.753Z"
   },
   {
    "duration": 441,
    "start_time": "2023-06-19T18:05:56.784Z"
   },
   {
    "duration": 9,
    "start_time": "2023-06-19T18:05:57.226Z"
   },
   {
    "duration": 61078,
    "start_time": "2023-06-19T18:05:57.236Z"
   },
   {
    "duration": 84,
    "start_time": "2023-06-19T18:06:58.317Z"
   },
   {
    "duration": 58,
    "start_time": "2023-06-19T18:06:58.406Z"
   },
   {
    "duration": 94,
    "start_time": "2023-06-19T18:06:58.466Z"
   },
   {
    "duration": 606,
    "start_time": "2023-06-19T18:06:58.562Z"
   },
   {
    "duration": 10,
    "start_time": "2023-06-19T18:06:59.170Z"
   },
   {
    "duration": 63361,
    "start_time": "2023-06-19T18:06:59.181Z"
   },
   {
    "duration": 73,
    "start_time": "2023-06-19T18:08:02.544Z"
   },
   {
    "duration": 63,
    "start_time": "2023-06-19T18:08:02.622Z"
   },
   {
    "duration": 101,
    "start_time": "2023-06-19T18:08:02.763Z"
   },
   {
    "duration": 94,
    "start_time": "2023-06-19T18:08:02.867Z"
   },
   {
    "duration": 3,
    "start_time": "2023-06-19T18:08:02.963Z"
   },
   {
    "duration": 102,
    "start_time": "2023-06-19T18:08:02.967Z"
   },
   {
    "duration": 801,
    "start_time": "2023-06-19T18:08:03.070Z"
   },
   {
    "duration": 10,
    "start_time": "2023-06-19T18:08:03.873Z"
   },
   {
    "duration": 33266,
    "start_time": "2023-06-19T18:08:03.885Z"
   },
   {
    "duration": 48,
    "start_time": "2023-06-19T18:08:37.157Z"
   },
   {
    "duration": 59,
    "start_time": "2023-06-19T18:08:37.207Z"
   },
   {
    "duration": 95,
    "start_time": "2023-06-19T18:08:37.269Z"
   },
   {
    "duration": 97,
    "start_time": "2023-06-19T18:08:37.366Z"
   },
   {
    "duration": 458,
    "start_time": "2023-06-19T18:08:37.465Z"
   },
   {
    "duration": 10,
    "start_time": "2023-06-19T18:08:37.926Z"
   },
   {
    "duration": 2316,
    "start_time": "2023-06-19T18:08:37.938Z"
   },
   {
    "duration": 11,
    "start_time": "2023-06-19T18:08:40.257Z"
   },
   {
    "duration": 95,
    "start_time": "2023-06-19T18:08:40.270Z"
   },
   {
    "duration": 102,
    "start_time": "2023-06-19T18:08:40.367Z"
   },
   {
    "duration": 313,
    "start_time": "2023-06-19T18:08:40.556Z"
   },
   {
    "duration": 24,
    "start_time": "2023-06-19T18:08:40.871Z"
   },
   {
    "duration": 211,
    "start_time": "2023-06-19T18:08:40.897Z"
   },
   {
    "duration": 3514,
    "start_time": "2023-06-19T18:29:39.703Z"
   },
   {
    "duration": 44,
    "start_time": "2023-06-19T18:29:43.219Z"
   },
   {
    "duration": 21,
    "start_time": "2023-06-19T18:29:43.265Z"
   },
   {
    "duration": 47,
    "start_time": "2023-06-19T18:29:43.289Z"
   },
   {
    "duration": 30,
    "start_time": "2023-06-19T18:29:43.338Z"
   },
   {
    "duration": 5,
    "start_time": "2023-06-19T18:29:43.370Z"
   },
   {
    "duration": 9,
    "start_time": "2023-06-19T18:29:43.377Z"
   },
   {
    "duration": 5,
    "start_time": "2023-06-19T18:29:43.388Z"
   },
   {
    "duration": 17,
    "start_time": "2023-06-19T18:29:43.395Z"
   },
   {
    "duration": 5,
    "start_time": "2023-06-19T18:29:43.415Z"
   },
   {
    "duration": 37,
    "start_time": "2023-06-19T18:29:43.422Z"
   },
   {
    "duration": 13,
    "start_time": "2023-06-19T18:29:43.460Z"
   },
   {
    "duration": 11,
    "start_time": "2023-06-19T18:29:43.475Z"
   },
   {
    "duration": 18,
    "start_time": "2023-06-19T18:29:43.488Z"
   },
   {
    "duration": 7,
    "start_time": "2023-06-19T18:29:43.507Z"
   },
   {
    "duration": 45,
    "start_time": "2023-06-19T18:29:43.517Z"
   },
   {
    "duration": 39,
    "start_time": "2023-06-19T18:29:43.564Z"
   },
   {
    "duration": 471,
    "start_time": "2023-06-19T18:29:43.607Z"
   },
   {
    "duration": 11,
    "start_time": "2023-06-19T18:29:44.080Z"
   },
   {
    "duration": 62360,
    "start_time": "2023-06-19T18:29:44.093Z"
   },
   {
    "duration": 67,
    "start_time": "2023-06-19T18:30:46.458Z"
   },
   {
    "duration": 49,
    "start_time": "2023-06-19T18:30:46.527Z"
   },
   {
    "duration": 86,
    "start_time": "2023-06-19T18:30:46.577Z"
   },
   {
    "duration": 803,
    "start_time": "2023-06-19T18:30:46.665Z"
   },
   {
    "duration": 9,
    "start_time": "2023-06-19T18:30:47.471Z"
   },
   {
    "duration": 64599,
    "start_time": "2023-06-19T18:30:47.482Z"
   },
   {
    "duration": 76,
    "start_time": "2023-06-19T18:31:52.084Z"
   },
   {
    "duration": 193,
    "start_time": "2023-06-19T18:31:52.165Z"
   },
   {
    "duration": 15,
    "start_time": "2023-06-19T18:31:52.360Z"
   },
   {
    "duration": 92,
    "start_time": "2023-06-19T18:31:52.377Z"
   },
   {
    "duration": 108,
    "start_time": "2023-06-19T18:31:52.471Z"
   },
   {
    "duration": 47,
    "start_time": "2023-06-19T18:31:52.581Z"
   },
   {
    "duration": 786,
    "start_time": "2023-06-19T18:31:52.630Z"
   },
   {
    "duration": 8,
    "start_time": "2023-06-19T18:31:53.418Z"
   },
   {
    "duration": 33102,
    "start_time": "2023-06-19T18:31:53.428Z"
   },
   {
    "duration": 60,
    "start_time": "2023-06-19T18:32:26.532Z"
   },
   {
    "duration": 27,
    "start_time": "2023-06-19T18:32:26.594Z"
   },
   {
    "duration": 100,
    "start_time": "2023-06-19T18:32:26.663Z"
   },
   {
    "duration": 92,
    "start_time": "2023-06-19T18:32:26.765Z"
   },
   {
    "duration": 361,
    "start_time": "2023-06-19T18:32:26.859Z"
   },
   {
    "duration": 8,
    "start_time": "2023-06-19T18:32:27.222Z"
   },
   {
    "duration": 2410,
    "start_time": "2023-06-19T18:32:27.232Z"
   },
   {
    "duration": 19,
    "start_time": "2023-06-19T18:32:29.644Z"
   },
   {
    "duration": 192,
    "start_time": "2023-06-19T18:32:29.665Z"
   },
   {
    "duration": 16,
    "start_time": "2023-06-19T18:32:29.859Z"
   },
   {
    "duration": 358,
    "start_time": "2023-06-19T18:32:29.878Z"
   },
   {
    "duration": 26,
    "start_time": "2023-06-19T18:32:30.238Z"
   },
   {
    "duration": 191,
    "start_time": "2023-06-19T18:32:30.265Z"
   },
   {
    "duration": 672,
    "start_time": "2023-06-19T18:37:15.751Z"
   },
   {
    "duration": 60,
    "start_time": "2023-06-19T18:37:22.358Z"
   },
   {
    "duration": 205,
    "start_time": "2023-06-19T18:37:26.480Z"
   },
   {
    "duration": 4266,
    "start_time": "2023-06-19T18:50:53.523Z"
   },
   {
    "duration": 50,
    "start_time": "2023-06-19T18:50:57.791Z"
   },
   {
    "duration": 25,
    "start_time": "2023-06-19T18:50:57.843Z"
   },
   {
    "duration": 47,
    "start_time": "2023-06-19T18:50:57.871Z"
   },
   {
    "duration": 37,
    "start_time": "2023-06-19T18:50:57.921Z"
   },
   {
    "duration": 8,
    "start_time": "2023-06-19T18:50:57.960Z"
   },
   {
    "duration": 12,
    "start_time": "2023-06-19T18:50:57.970Z"
   },
   {
    "duration": 7,
    "start_time": "2023-06-19T18:50:57.984Z"
   },
   {
    "duration": 24,
    "start_time": "2023-06-19T18:50:57.992Z"
   },
   {
    "duration": 5,
    "start_time": "2023-06-19T18:50:58.019Z"
   },
   {
    "duration": 31,
    "start_time": "2023-06-19T18:50:58.026Z"
   },
   {
    "duration": 12,
    "start_time": "2023-06-19T18:50:58.059Z"
   },
   {
    "duration": 18,
    "start_time": "2023-06-19T18:50:58.073Z"
   },
   {
    "duration": 16,
    "start_time": "2023-06-19T18:50:58.095Z"
   },
   {
    "duration": 7,
    "start_time": "2023-06-19T18:50:58.113Z"
   },
   {
    "duration": 14,
    "start_time": "2023-06-19T18:50:58.157Z"
   },
   {
    "duration": 42,
    "start_time": "2023-06-19T18:50:58.173Z"
   },
   {
    "duration": 488,
    "start_time": "2023-06-19T18:50:58.218Z"
   },
   {
    "duration": 13,
    "start_time": "2023-06-19T18:50:58.708Z"
   },
   {
    "duration": 66792,
    "start_time": "2023-06-19T18:50:58.723Z"
   },
   {
    "duration": 70,
    "start_time": "2023-06-19T18:52:05.517Z"
   },
   {
    "duration": 79,
    "start_time": "2023-06-19T18:52:05.589Z"
   },
   {
    "duration": 94,
    "start_time": "2023-06-19T18:52:05.671Z"
   },
   {
    "duration": 734,
    "start_time": "2023-06-19T18:52:05.767Z"
   },
   {
    "duration": 10,
    "start_time": "2023-06-19T18:52:06.504Z"
   },
   {
    "duration": 66036,
    "start_time": "2023-06-19T18:52:06.517Z"
   },
   {
    "duration": 63,
    "start_time": "2023-06-19T18:53:12.557Z"
   },
   {
    "duration": 150,
    "start_time": "2023-06-19T18:53:12.622Z"
   },
   {
    "duration": 102,
    "start_time": "2023-06-19T18:53:12.776Z"
   },
   {
    "duration": 178,
    "start_time": "2023-06-19T18:53:12.880Z"
   },
   {
    "duration": 3,
    "start_time": "2023-06-19T18:53:13.060Z"
   },
   {
    "duration": 36,
    "start_time": "2023-06-19T18:53:13.064Z"
   },
   {
    "duration": 785,
    "start_time": "2023-06-19T18:53:13.102Z"
   },
   {
    "duration": 12,
    "start_time": "2023-06-19T18:53:13.888Z"
   },
   {
    "duration": 35273,
    "start_time": "2023-06-19T18:53:13.903Z"
   },
   {
    "duration": 58,
    "start_time": "2023-06-19T18:53:49.178Z"
   },
   {
    "duration": 126,
    "start_time": "2023-06-19T18:53:49.238Z"
   },
   {
    "duration": 102,
    "start_time": "2023-06-19T18:53:49.367Z"
   },
   {
    "duration": 13,
    "start_time": "2023-06-19T18:53:49.558Z"
   },
   {
    "duration": 514,
    "start_time": "2023-06-19T18:53:49.574Z"
   },
   {
    "duration": 9,
    "start_time": "2023-06-19T18:53:50.092Z"
   },
   {
    "duration": 2686,
    "start_time": "2023-06-19T18:53:50.102Z"
   },
   {
    "duration": 11,
    "start_time": "2023-06-19T18:53:52.790Z"
   },
   {
    "duration": 64,
    "start_time": "2023-06-19T18:53:52.803Z"
   },
   {
    "duration": 98,
    "start_time": "2023-06-19T18:53:52.869Z"
   },
   {
    "duration": 914,
    "start_time": "2023-06-19T18:53:52.970Z"
   },
   {
    "duration": 57,
    "start_time": "2023-06-19T18:53:53.886Z"
   },
   {
    "duration": 342,
    "start_time": "2023-06-19T18:53:53.945Z"
   },
   {
    "duration": 17,
    "start_time": "2023-06-19T18:53:54.295Z"
   },
   {
    "duration": 6,
    "start_time": "2023-06-19T18:59:07.247Z"
   },
   {
    "duration": 3686,
    "start_time": "2023-06-19T19:07:31.736Z"
   },
   {
    "duration": 42,
    "start_time": "2023-06-19T19:07:35.424Z"
   },
   {
    "duration": 24,
    "start_time": "2023-06-19T19:07:35.468Z"
   },
   {
    "duration": 63,
    "start_time": "2023-06-19T19:07:35.495Z"
   },
   {
    "duration": 16,
    "start_time": "2023-06-19T19:07:35.560Z"
   },
   {
    "duration": 6,
    "start_time": "2023-06-19T19:07:35.578Z"
   },
   {
    "duration": 11,
    "start_time": "2023-06-19T19:07:35.586Z"
   },
   {
    "duration": 6,
    "start_time": "2023-06-19T19:07:35.600Z"
   },
   {
    "duration": 23,
    "start_time": "2023-06-19T19:07:35.608Z"
   },
   {
    "duration": 6,
    "start_time": "2023-06-19T19:07:35.656Z"
   },
   {
    "duration": 20,
    "start_time": "2023-06-19T19:07:35.664Z"
   },
   {
    "duration": 18,
    "start_time": "2023-06-19T19:07:35.686Z"
   },
   {
    "duration": 36,
    "start_time": "2023-06-19T19:07:35.706Z"
   },
   {
    "duration": 22,
    "start_time": "2023-06-19T19:07:35.745Z"
   },
   {
    "duration": 18,
    "start_time": "2023-06-19T19:07:35.769Z"
   },
   {
    "duration": 20,
    "start_time": "2023-06-19T19:07:35.788Z"
   },
   {
    "duration": 52,
    "start_time": "2023-06-19T19:07:35.810Z"
   },
   {
    "duration": 510,
    "start_time": "2023-06-19T19:07:35.865Z"
   },
   {
    "duration": 11,
    "start_time": "2023-06-19T19:07:36.378Z"
   },
   {
    "duration": 68728,
    "start_time": "2023-06-19T19:07:36.391Z"
   },
   {
    "duration": 73,
    "start_time": "2023-06-19T19:08:45.121Z"
   },
   {
    "duration": 69,
    "start_time": "2023-06-19T19:08:45.195Z"
   },
   {
    "duration": 94,
    "start_time": "2023-06-19T19:08:45.266Z"
   },
   {
    "duration": 612,
    "start_time": "2023-06-19T19:08:45.364Z"
   },
   {
    "duration": 13,
    "start_time": "2023-06-19T19:08:45.978Z"
   },
   {
    "duration": 65670,
    "start_time": "2023-06-19T19:08:45.993Z"
   },
   {
    "duration": 66,
    "start_time": "2023-06-19T19:09:51.665Z"
   },
   {
    "duration": 54,
    "start_time": "2023-06-19T19:09:51.736Z"
   },
   {
    "duration": 166,
    "start_time": "2023-06-19T19:09:51.792Z"
   },
   {
    "duration": 100,
    "start_time": "2023-06-19T19:09:51.960Z"
   },
   {
    "duration": 13,
    "start_time": "2023-06-19T19:09:52.062Z"
   },
   {
    "duration": 60,
    "start_time": "2023-06-19T19:09:52.077Z"
   },
   {
    "duration": 860,
    "start_time": "2023-06-19T19:09:52.139Z"
   },
   {
    "duration": 10,
    "start_time": "2023-06-19T19:09:53.002Z"
   },
   {
    "duration": 35544,
    "start_time": "2023-06-19T19:09:53.014Z"
   },
   {
    "duration": 52,
    "start_time": "2023-06-19T19:10:28.559Z"
   },
   {
    "duration": 165,
    "start_time": "2023-06-19T19:10:28.612Z"
   },
   {
    "duration": 82,
    "start_time": "2023-06-19T19:10:28.780Z"
   },
   {
    "duration": 91,
    "start_time": "2023-06-19T19:10:28.868Z"
   },
   {
    "duration": 414,
    "start_time": "2023-06-19T19:10:28.961Z"
   },
   {
    "duration": 10,
    "start_time": "2023-06-19T19:10:29.377Z"
   },
   {
    "duration": 2458,
    "start_time": "2023-06-19T19:10:29.389Z"
   },
   {
    "duration": 21,
    "start_time": "2023-06-19T19:10:31.850Z"
   },
   {
    "duration": 182,
    "start_time": "2023-06-19T19:10:31.875Z"
   },
   {
    "duration": 101,
    "start_time": "2023-06-19T19:10:32.059Z"
   },
   {
    "duration": 756,
    "start_time": "2023-06-19T19:10:32.164Z"
   },
   {
    "duration": 65,
    "start_time": "2023-06-19T19:10:32.922Z"
   },
   {
    "duration": 218,
    "start_time": "2023-06-19T19:10:32.989Z"
   },
   {
    "duration": 15,
    "start_time": "2023-06-19T19:10:33.209Z"
   },
   {
    "duration": 8,
    "start_time": "2023-06-19T19:10:33.226Z"
   },
   {
    "duration": 3372,
    "start_time": "2023-06-19T19:19:55.070Z"
   },
   {
    "duration": 42,
    "start_time": "2023-06-19T19:19:58.445Z"
   },
   {
    "duration": 21,
    "start_time": "2023-06-19T19:19:58.489Z"
   },
   {
    "duration": 57,
    "start_time": "2023-06-19T19:19:58.513Z"
   },
   {
    "duration": 16,
    "start_time": "2023-06-19T19:19:58.573Z"
   },
   {
    "duration": 6,
    "start_time": "2023-06-19T19:19:58.592Z"
   },
   {
    "duration": 14,
    "start_time": "2023-06-19T19:19:58.599Z"
   },
   {
    "duration": 11,
    "start_time": "2023-06-19T19:19:58.615Z"
   },
   {
    "duration": 43,
    "start_time": "2023-06-19T19:19:58.628Z"
   },
   {
    "duration": 5,
    "start_time": "2023-06-19T19:19:58.674Z"
   },
   {
    "duration": 7,
    "start_time": "2023-06-19T19:19:58.681Z"
   },
   {
    "duration": 13,
    "start_time": "2023-06-19T19:19:58.690Z"
   },
   {
    "duration": 13,
    "start_time": "2023-06-19T19:19:58.705Z"
   },
   {
    "duration": 45,
    "start_time": "2023-06-19T19:19:58.720Z"
   },
   {
    "duration": 17,
    "start_time": "2023-06-19T19:19:58.767Z"
   },
   {
    "duration": 12,
    "start_time": "2023-06-19T19:19:58.787Z"
   },
   {
    "duration": 31,
    "start_time": "2023-06-19T19:19:58.801Z"
   },
   {
    "duration": 513,
    "start_time": "2023-06-19T19:19:58.835Z"
   },
   {
    "duration": 12,
    "start_time": "2023-06-19T19:19:59.350Z"
   },
   {
    "duration": 64917,
    "start_time": "2023-06-19T19:19:59.364Z"
   },
   {
    "duration": 75,
    "start_time": "2023-06-19T19:21:04.283Z"
   },
   {
    "duration": 198,
    "start_time": "2023-06-19T19:21:04.359Z"
   },
   {
    "duration": 11,
    "start_time": "2023-06-19T19:21:04.560Z"
   },
   {
    "duration": 653,
    "start_time": "2023-06-19T19:21:04.576Z"
   },
   {
    "duration": 11,
    "start_time": "2023-06-19T19:21:05.231Z"
   },
   {
    "duration": 69951,
    "start_time": "2023-06-19T19:21:05.243Z"
   },
   {
    "duration": 79,
    "start_time": "2023-06-19T19:22:15.198Z"
   },
   {
    "duration": 84,
    "start_time": "2023-06-19T19:22:15.281Z"
   },
   {
    "duration": 91,
    "start_time": "2023-06-19T19:22:15.368Z"
   },
   {
    "duration": 97,
    "start_time": "2023-06-19T19:22:15.462Z"
   },
   {
    "duration": 4,
    "start_time": "2023-06-19T19:22:15.560Z"
   },
   {
    "duration": 37,
    "start_time": "2023-06-19T19:22:15.566Z"
   },
   {
    "duration": 1009,
    "start_time": "2023-06-19T19:22:15.605Z"
   },
   {
    "duration": 17,
    "start_time": "2023-06-19T19:22:16.616Z"
   },
   {
    "duration": 35827,
    "start_time": "2023-06-19T19:22:16.635Z"
   },
   {
    "duration": 65,
    "start_time": "2023-06-19T19:22:52.465Z"
   },
   {
    "duration": 48,
    "start_time": "2023-06-19T19:22:52.532Z"
   },
   {
    "duration": 79,
    "start_time": "2023-06-19T19:22:52.588Z"
   },
   {
    "duration": 188,
    "start_time": "2023-06-19T19:22:52.669Z"
   },
   {
    "duration": 449,
    "start_time": "2023-06-19T19:22:52.860Z"
   },
   {
    "duration": 11,
    "start_time": "2023-06-19T19:22:53.312Z"
   },
   {
    "duration": 2799,
    "start_time": "2023-06-19T19:22:53.325Z"
   },
   {
    "duration": 15,
    "start_time": "2023-06-19T19:22:56.126Z"
   },
   {
    "duration": 50,
    "start_time": "2023-06-19T19:22:56.142Z"
   },
   {
    "duration": 100,
    "start_time": "2023-06-19T19:22:56.258Z"
   },
   {
    "duration": 741,
    "start_time": "2023-06-19T19:22:56.359Z"
   },
   {
    "duration": 58,
    "start_time": "2023-06-19T19:22:57.103Z"
   },
   {
    "duration": 237,
    "start_time": "2023-06-19T19:22:57.163Z"
   },
   {
    "duration": 8,
    "start_time": "2023-06-19T19:22:57.402Z"
   },
   {
    "duration": 14,
    "start_time": "2023-06-19T19:22:57.412Z"
   },
   {
    "duration": 35,
    "start_time": "2023-06-19T19:22:57.428Z"
   },
   {
    "duration": 9,
    "start_time": "2023-06-19T19:27:05.013Z"
   },
   {
    "duration": 152,
    "start_time": "2023-06-19T19:28:16.290Z"
   },
   {
    "duration": 9,
    "start_time": "2023-06-19T19:28:30.932Z"
   }
  ],
  "kernelspec": {
   "display_name": "Python 3 (ipykernel)",
   "language": "python",
   "name": "python3"
  },
  "language_info": {
   "codemirror_mode": {
    "name": "ipython",
    "version": 3
   },
   "file_extension": ".py",
   "mimetype": "text/x-python",
   "name": "python",
   "nbconvert_exporter": "python",
   "pygments_lexer": "ipython3",
   "version": "3.9.13"
  },
  "toc": {
   "base_numbering": 1,
   "nav_menu": {},
   "number_sections": true,
   "sideBar": true,
   "skip_h1_title": true,
   "title_cell": "Содержание",
   "title_sidebar": "Contents",
   "toc_cell": true,
   "toc_position": {},
   "toc_section_display": true,
   "toc_window_display": false
  }
 },
 "nbformat": 4,
 "nbformat_minor": 2
}
